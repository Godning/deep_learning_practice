{
 "cells": [
  {
   "cell_type": "markdown",
   "metadata": {},
   "source": [
    "# Write Neural Network from Scratch\n",
    "<br/><br/>"
   ]
  },
  {
   "cell_type": "markdown",
   "metadata": {},
   "source": [
    "TO DO: \n",
    "- Drop out layer\n",
    "- Parameter Update\n",
    "- Hyperparam optimization"
   ]
  },
  {
   "cell_type": "markdown",
   "metadata": {},
   "source": [
    "# 1. Define Gates (Add, Multiply)"
   ]
  },
  {
   "cell_type": "markdown",
   "metadata": {},
   "source": [
    "### Some Notations:\n",
    "$$\n",
    "WX + b = \\mathbf{S} \\\\\n",
    "\\frac{\\partial{L}}{\\partial{WX}} = d(WX) \\\\\n",
    "\\frac{\\partial{L}}{\\partial{S}} = d({S}) \\\\\n",
    "$$"
   ]
  },
  {
   "cell_type": "markdown",
   "metadata": {},
   "source": [
    "Math: http://cs231n.github.io/optimization-2/"
   ]
  },
  {
   "cell_type": "code",
   "execution_count": 2,
   "metadata": {
    "collapsed": true
   },
   "outputs": [],
   "source": [
    "class Mul:\n",
    "    def forward(self, W, X):\n",
    "        return np.dot(X, W)\n",
    "    \n",
    "    def backward(self, W, X, dWX):\n",
    "        dW = np.dot( np.transpose(X), dWX )\n",
    "        dX = np.dot( dWX, np.transpose (W))\n",
    "        return dW, dX"
   ]
  },
  {
   "cell_type": "code",
   "execution_count": 3,
   "metadata": {
    "collapsed": true
   },
   "outputs": [],
   "source": [
    "class Add:\n",
    "    def forward(self, WX, b):\n",
    "        return WX + b\n",
    "\n",
    "    def backward(self, WX, b, dS):\n",
    "        dWX = dS * np.ones_like(WX, dtype=np.float64)\n",
    "        db = np.dot(np.ones((1, dS.shape[0]), dtype=np.float64), dS)\n",
    "        return db, dWX"
   ]
  },
  {
   "cell_type": "markdown",
   "metadata": {},
   "source": [
    "# 2. Define Activaton Functions (Sigmoid, Tanh, Softmax, etc.)"
   ]
  },
  {
   "cell_type": "markdown",
   "metadata": {},
   "source": [
    "$$\n",
    "Activation(S) = Z \\\\\n",
    "Input: \n",
    "\\frac{\\partial{L}}{\\partial{Z}} = d(Z) \\\\\n",
    "Output:\n",
    "\\frac{\\partial{L}}{\\partial{S}} = d(S) \\\\\n",
    "$$\n"
   ]
  },
  {
   "cell_type": "code",
   "execution_count": 4,
   "metadata": {
    "collapsed": true
   },
   "outputs": [],
   "source": [
    "class Tanh:\n",
    "    def forward(self, S):\n",
    "        Z = np.tanh(S)\n",
    "        return Z\n",
    "    \n",
    "    def backward(self, S, dZ):\n",
    "        Z = self.forward(S)\n",
    "        dS = (1.0 - np.square(Z)) * dZ\n",
    "        return dS"
   ]
  },
  {
   "cell_type": "code",
   "execution_count": 5,
   "metadata": {
    "collapsed": true
   },
   "outputs": [],
   "source": [
    "class Sigmoid:\n",
    "    def forward(self, S):\n",
    "        Z = 1. / (1.0 + np.exp(-S))\n",
    "        return Z\n",
    "    \n",
    "    def backward(self, S, dZ):\n",
    "        Z = self.forward(S)\n",
    "        dS =(1 - Z) * Z * dZ\n",
    "        return dS"
   ]
  },
  {
   "cell_type": "markdown",
   "metadata": {},
   "source": [
    "$\n",
    "for\\ each\\ sample\\ i: \n",
    "$\n",
    "$$\n",
    "\\hat{y_{k}} = softmax(S_1, S_2, ..., S_{k}),\\ k\\ is\\ class\\ index \\\\\n",
    "\\mathbf{E} = - \\sum_{i=1}^N y_{ik} log(\\hat{y_{ik}} )\\\\\n",
    "\\frac{\\partial\\mathbf{E}}{\\partial S_{k}} = {\\hat y}_{k} - y_{k},\\ where\\ y_{k} = 0, 1\\\\\n",
    "$$"
   ]
  },
  {
   "cell_type": "code",
   "execution_count": 6,
   "metadata": {
    "collapsed": true
   },
   "outputs": [],
   "source": [
    "class Softmax:\n",
    "    # For Training\n",
    "    def __init__(self):\n",
    "        self.num_examples = 0\n",
    "    \n",
    "    def forward(self, S):\n",
    "        self.num_examples = S.shape[0]\n",
    "        exp_S = np.exp(S)\n",
    "        Z = exp_S / np.sum(exp_S, axis = 1, keepdims = True)\n",
    "        return Z\n",
    "\n",
    "    def backward(self, S, y): # Note: y instead of dZ\n",
    "        probs = Z = self.forward(S)\n",
    "        for i in range(len(y)):\n",
    "            true_label = y[i]\n",
    "            probs[i][true_label] -= 1 # see equation above\n",
    "        dS = probs\n",
    "        return dS\n",
    "    \n",
    "    # For evaluation    \n",
    "    def forward_loss(self, Z, y):\n",
    "        probs = Z\n",
    "        log_probs = []\n",
    "        for prob, true_label in zip(probs, y):\n",
    "            log_probs.append(np.log(prob[true_label]))\n",
    "        avg_cross_entropy_loss = - 1. / self.num_examples * np.sum(log_probs) # see equation above\n",
    "        return avg_cross_entropy_loss\n",
    "    \n",
    "    # For prediction\n",
    "    def predict(self, Z):\n",
    "        return np.argmax(Z, axis = 1)"
   ]
  },
  {
   "cell_type": "markdown",
   "metadata": {},
   "source": [
    "### (Optional Layer) Batch Normalization\n",
    "- **Idea**: Normalize the inputs before activation function for each layer\n",
    "- **Advantages**: \n",
    "    - Faster training;\n",
    "    - Still allow scale and shift"
   ]
  },
  {
   "cell_type": "markdown",
   "metadata": {},
   "source": [
    "<img src=\"https://kratzert.github.io/images/bn_backpass/bn_algorithm.PNG\" width=\"400\">"
   ]
  },
  {
   "cell_type": "code",
   "execution_count": 7,
   "metadata": {
    "collapsed": true
   },
   "outputs": [],
   "source": [
    "class BatchNorm:\n",
    "    def __init__(self):\n",
    "        self.cache = ()\n",
    "        \n",
    "    def forward(self, X, gamma, beta, eps):\n",
    "        num_examples = X.shape[0]\n",
    "        \n",
    "        mu_B = 1. / num_examples * np.sum(X, axis = 0)\n",
    "        X_mu = X - mu_B\n",
    "        var_B = 1. / num_examples * np.sum(  X_mu ** 2, axis = 0 )\n",
    "        sqrt_var_B = np.sqrt(var_B + eps)\n",
    "        i_sqrt_var_B = 1. / sqrt_var_B\n",
    "        X_hat =  X_mu * i_sqrt_var_B\n",
    "        gammaX = gamma * X_hat\n",
    "        DZ = gammaX + beta\n",
    "        \n",
    "        self.cache = (X_hat, X_mu, gamma, i_sqrt_var_B, sqrt_var_B, var_B, eps)\n",
    "        return DZ\n",
    "    \n",
    "    def backward(self, dDZ):\n",
    "        num_examples = dDZ.shape[0]\n",
    "        X_hat, X_mu, gamma, i_sqrt_var_B, sqrt_var_B, var_B, eps = self.cache\n",
    "        \n",
    "        # scale and shift\n",
    "        dbeta = np.sum(dDZ, axis = 0)\n",
    "        dgammaX = dDZ\n",
    "        dgamma = np.sum(dgammaX * X_hat, axis = 0)\n",
    "        dXhat = dgammaX * gamma\n",
    "        \n",
    "        # Standardize\n",
    "        di_sqrt_var_B = np.sum(dXhat * X_mu, axis = 0)\n",
    "        d_x_mu_2 = dXhat * i_sqrt_var_B\n",
    "        dsqrt_var_B = -1. / (sqrt_var_B ** 2) * di_sqrt_var_B\n",
    "        dvar_B = 0.5 * 1. / np.sqrt(var_B + eps) * dsqrt_var_B\n",
    "\n",
    "        # Batch variance\n",
    "        dsquare = 1. / num_examples * np.ones_like(dDZ) * dvar_B\n",
    "        d_x_mu_1 = 2 * X_mu * dsquare\n",
    "        \n",
    "        # Batch mean\n",
    "        d_x_mu = d_x_mu_2 + d_x_mu_1 # d(f(x)g(x)) = f(x)g'(x) = f'(x)g(x)\n",
    "        dmu = -1. * np.sum(d_x_mu, axis = 0)\n",
    "        dx_2 = d_x_mu\n",
    "        dx_1 = 1. / num_examples * np.ones_like(dDZ) * dmu\n",
    "        dx = dx_2 + dx_1\n",
    "        \n",
    "        return dx, dgamma, dbeta"
   ]
  },
  {
   "cell_type": "code",
   "execution_count": 8,
   "metadata": {},
   "outputs": [
    {
     "data": {
      "text/plain": [
       "\"\\n# Quick test:\\nprint('Test for 1st input layer: Before normalization: ')\\nmeans = np.mean(network.layers[1].S, axis = 0)\\nstds = np.std(network.layers[1].S, axis = 0)\\nprint('Mean/Std: ', means, stds) \\nprint('Test for 1st input layer: After normalization: ')\\nmeans = np.mean(network.layers[1].SZ, axis = 0)\\nstds = np.std(network.layers[1].SZ, axis = 0)\\nprint('Mean/Std: ', means, stds) \\n\""
      ]
     },
     "execution_count": 8,
     "metadata": {},
     "output_type": "execute_result"
    }
   ],
   "source": [
    "'''\n",
    "# Quick test:\n",
    "print('Test for 1st input layer: Before normalization: ')\n",
    "means = np.mean(network.layers[1].S, axis = 0)\n",
    "stds = np.std(network.layers[1].S, axis = 0)\n",
    "print('Mean/Std: ', means, stds) \n",
    "print('Test for 1st input layer: After normalization: ')\n",
    "means = np.mean(network.layers[1].SZ, axis = 0)\n",
    "stds = np.std(network.layers[1].SZ, axis = 0)\n",
    "print('Mean/Std: ', means, stds) \n",
    "'''"
   ]
  },
  {
   "cell_type": "markdown",
   "metadata": {},
   "source": [
    "# 3. Define Layer"
   ]
  },
  {
   "cell_type": "markdown",
   "metadata": {},
   "source": [
    "### Note 1: Weights Initialization\n",
    "- **All zero**: wrong: neuron outputs and gradients would be same; same update\n",
    "- **Number to small**: small gradients for inputs; gradient diminishing for deep NN\n",
    "- **Preferred: All neuron with same output distribution**: \n",
    "    - w = np.random.randn(n) / sqrt(n), where n is number of inputs. \n",
    "    - It can be proved that Var(S) = Var(WX) = Var(X)"
   ]
  },
  {
   "cell_type": "markdown",
   "metadata": {},
   "source": [
    "### Note 2: Param Update and Learning Rate"
   ]
  },
  {
   "cell_type": "markdown",
   "metadata": {},
   "source": [
    "- Step decay: Reduce the learning rate by some factor every few epochs. Other approaches also avalable, like exponential decay, 1/t decay, etc.\n",
    "- Second-order method, not common\n",
    "- Per-parameter adaptive learning rate methods: Adagrad, Adam"
   ]
  },
  {
   "cell_type": "markdown",
   "metadata": {},
   "source": [
    "<img src=\"http://cs231n.github.io/assets/nn3/nesterov.jpeg\" width=\"600\">"
   ]
  },
  {
   "cell_type": "code",
   "execution_count": 276,
   "metadata": {
    "collapsed": true
   },
   "outputs": [],
   "source": [
    "# Treat all elements of dX as a whole\n",
    "#  Intuition: \n",
    "#  If gradient direction not changed, increase update, faster convergence\n",
    "#  If gradient direction changed, reduce update, reduce oscillation\n",
    "\n",
    "def VanillaUpdate(x, dx, learning_rate):\n",
    "    x += -learning_rate * dx\n",
    "\n",
    "def MomentumUpdate(x, dx, learning_rate, mu):\n",
    "    v = mu * v - learning_rate * dx # integrate velocity, mu's typical value is about 0.9\n",
    "    x += v # integrate position        "
   ]
  },
  {
   "cell_type": "code",
   "execution_count": 277,
   "metadata": {
    "collapsed": true
   },
   "outputs": [],
   "source": [
    "# Treat each element of dX adaptively\n",
    "# Intuition:\n",
    "# 1. Those dx receiving infrequent updates should have higher learning rate. vice versa \n",
    "# 2. We don't want: the gradients accumulate, and the learning rate monotically decrease, \n",
    "# 2. We want: modulates the learning rate of each weight based on the magnitudes of its gradient\n",
    "# 3. Still want to use \"momentum-like\" update to get a smooth gradient\n",
    "\n",
    "# 1. AdaGrad\n",
    "def AdaGrad(x, dx, learning_rate, cache, eps):\n",
    "    cache += dx**2\n",
    "    x += - learning_rate * dx / (np.sqrt(cache) + eps) # (usually set somewhere in range from 1e-4 to 1e-8)\n",
    "\n",
    "# 1+2. RMSprop\n",
    "def RMSprop(x, dx, learning_rate, cache, eps, decay_rate): #Here, decay_rate typical values are [0.9, 0.99, 0.999]\n",
    "    cache = decay_rate * cache + (1 - decay_rate) * dx**2\n",
    "    x += - learning_rate * dx / (np.sqrt(cache) + eps)\n",
    "\n",
    "# 1+2+3. Adam\n",
    "def Adam(x, dx, learning_rate, m, v, t, beta1, beta2, eps):\n",
    "    m = beta1*m + (1-beta1)*dx # Smooth gradient\n",
    "    mt = m / (1-beta1**t) # bias-correction step\n",
    "    v = beta2*v + (1-beta2)*(dx**2) # keep track of past updates\n",
    "    vt = v / (1-beta2**t) # bias-correction step\n",
    "    x += - learning_rate * mt / (np.sqrt(vt) + eps) # eps = 1e-8, beta1 = 0.9, beta2 = 0.999       "
   ]
  },
  {
   "cell_type": "code",
   "execution_count": 278,
   "metadata": {},
   "outputs": [],
   "source": [
    "class Weight:\n",
    "    def __init__(self, init_value):\n",
    "        self.val = init_value\n",
    "        self.d = np.zeros_like(self.val, dtype=np.float64)\n",
    "        self.cache = np.zeros_like(self.val, dtype=np.float64)\n",
    "        self.m = np.zeros_like(self.val, dtype=np.float64)\n",
    "        self.v = np.zeros_like(self.val, dtype=np.float64)\n",
    "        self.t = 0\n",
    "    \n",
    "    def update(self, learning_rate, method, lambda_ = 0):\n",
    "        old_val = self.val\n",
    "        if method == 'Vanilla':\n",
    "            VanillaUpdate(self.val, self.d, learning_rate)\n",
    "        elif method == 'MomentumUpdate':\n",
    "            MomentumUpdate(self.val, self.d, learning_rate, mu = 0.9)\n",
    "        elif method == 'AdaGrad':\n",
    "            AdaGrad(self.val, self.d, learning_rate, self.cache, eps = 1e-5)\n",
    "        elif method == 'RMSprop':\n",
    "            AdaGrad(self.val, self.d, learning_rate, self.cache, eps = 1e-5, decay_rate = 0.99)\n",
    "        elif method == 'Adam':\n",
    "            Adam(self.val, self.d, learning_rate, self.m, self.v, self.t, beta1 = 0.9, beta2 = 0.999, eps = 1e-8)  \n",
    "            self.t += 1\n",
    "            \n",
    "        # Regularization\n",
    "        self.val -= lambda_ * old_val"
   ]
  },
  {
   "cell_type": "code",
   "execution_count": 279,
   "metadata": {
    "collapsed": true
   },
   "outputs": [],
   "source": [
    "class Layer:\n",
    "    def __init__(self, activation_function, num_neurons, batch_norm = False):\n",
    "        self.dim = num_neurons\n",
    "        self.activation = activation_function\n",
    "        self.batch_norm = batch_norm\n",
    "        if batch_norm:\n",
    "            self.batchnorm = BatchNorm()\n",
    "        self.isfirst = False\n",
    "        self.islast = False\n",
    "        self.before = None\n",
    "\n",
    "    def set_first_layer(self, input):\n",
    "        self.isfirst = True\n",
    "        self.X = input\n",
    "        \n",
    "    def set_last_layer(self, y):\n",
    "        self.islast = True\n",
    "        self.y = y\n",
    "    \n",
    "    def initialize_Wb(self):\n",
    "        if self.isfirst:\n",
    "            before_dim = self.X.shape[1]\n",
    "        else:\n",
    "            before_dim = self.before.dim\n",
    "            \n",
    "        self.W = Weight(np.random.randn(before_dim, self.dim) / np.sqrt(before_dim)) # see notes above\n",
    "        self.b = Weight(np.random.randn(self.dim).reshape(1, self.dim)) # see notes above\n",
    "        \n",
    "        # Extra step for Batch Normalization\n",
    "        if(self.batch_norm):\n",
    "            self.gamma, self.beta = (1., 0.)\n",
    "        \n",
    "    def forward_propagation(self):\n",
    "        if not self.isfirst:\n",
    "            self.X = self.before.Z\n",
    "        self.WX = Mul().forward( self.W.val, self.X )\n",
    "        self.S = Add().forward( self.WX, self.b.val)\n",
    "        if self.batch_norm:\n",
    "            self.SZ = self.batchnorm.forward( self.S, self.gamma, self.beta, eps = 0)\n",
    "            self.Z = self.activation.forward(self.SZ)\n",
    "        else:\n",
    "            self.Z = self.activation.forward(self.S)\n",
    "            \n",
    "        \n",
    "    def backward_propagation(self):\n",
    "        if self.islast:\n",
    "            self.dS = self.activation.backward(self.S, self.y)\n",
    "        else:\n",
    "            if self.batch_norm:\n",
    "                self.dSZ = self.activation.backward(self.SZ, self.dZ)\n",
    "                self.dS, self.dgamma, self.dbeta = self.batchnorm.backward(self.dSZ)\n",
    "            else:\n",
    "                self.dS = self.activation.backward(self.S, self.dZ)\n",
    "\n",
    "        self.b.d, self.dWX = Add().backward(self.WX, self.b.val, self.dS)\n",
    "        self.W.d, self.dX = Mul().backward(self.W.val, self.X, self.dWX)\n",
    "        if not self.isfirst:\n",
    "            self.before.dZ = self.dX\n",
    "\n",
    "    def update_weight(self, learning_rate, method, lambda_): # see below for other two options besides vanilla update\n",
    "        for weight in [self.W, self.b]:\n",
    "            weight.update(learning_rate, method, lambda_)\n",
    "        if self.batch_norm:\n",
    "            self.gamma += -learning_rate * self.dgamma\n",
    "            self.beta  += -learning_rate * self.dbeta\n",
    "            \n",
    "    # Only for softmax layer\n",
    "    def calculate_loss(self):\n",
    "        loss = self.activation.forward_loss(self.Z, self.y)\n",
    "        return loss\n",
    "            \n",
    "    def predict(self):\n",
    "        return self.activation.predict(self.Z)\n",
    "    \n",
    "    def calculate_acc(self): \n",
    "        pred = self.predict()\n",
    "        return sum( pred == self.y ) / len(self.y)   "
   ]
  },
  {
   "cell_type": "code",
   "execution_count": 280,
   "metadata": {},
   "outputs": [],
   "source": [
    "class Network:\n",
    "    def __init__(self):\n",
    "        self.layers = []\n",
    "        self.input = []\n",
    "        self.y = []\n",
    "        \n",
    "    def add(self, new_layer):\n",
    "        if self.layers:\n",
    "            new_layer.before = self.layers[-1]\n",
    "        self.layers.append(new_layer)\n",
    "    \n",
    "    def load_data(self, input, y):\n",
    "        self.layers[0].set_first_layer(input)\n",
    "        self.layers[-1].set_last_layer(y)\n",
    "        \n",
    "    def initialize(self, input, y, batch_size):\n",
    "        self.input = input\n",
    "        self.y = y\n",
    "        self.load_data(input[:batch_size,:], y[:batch_size])\n",
    "        for layer in layers:\n",
    "            layer.initialize_Wb()\n",
    "\n",
    "    def train(self, num_iter, learning_rate, update_method, batch_size, rand_, lambda_, Val_X = None, Val_y = None):\n",
    "        train_loss = []\n",
    "        train_acc = []\n",
    "        val_loss = []\n",
    "        val_acc = []\n",
    "        \n",
    "        for i in range(num_iter):    \n",
    "            # Calculate batch index\n",
    "            if not rand_:\n",
    "                idx = list(range(self.input.shape[0]))\n",
    "            else:\n",
    "                idx = np.random.randint(self.input.shape[0], size = batch_size)\n",
    "            \n",
    "            self.load_data(self.input[idx,:], self.y[idx])\n",
    "            \n",
    "            # Forward Propagation\n",
    "            for layer in self.layers:\n",
    "                layer.forward_propagation()\n",
    "                \n",
    "            # Print Traing Acc/Loss\n",
    "            if (i % 100 == 0):\n",
    "                t_loss = layers[-1].calculate_loss()\n",
    "                t_acc  = layers[-1].calculate_acc()\n",
    "                print('The Training Loss at Iteration ', i, ' is: ' , t_loss, ', Accuracy is', t_acc)\n",
    "                train_loss.append(t_loss)\n",
    "                train_acc.append(t_acc)\n",
    "                \n",
    "            # Print Validation Acc/Loss\n",
    "            if (i % 100 == 0 and Val_X is not None):\n",
    "                v_acc, v_loss = self.evaluate(Val_X, Val_y)\n",
    "                print('The Validation Loss at Iteration ', i, ' is: ' , v_acc, ', Accuracy is', v_acc)\n",
    "                val_loss.append(v_loss)\n",
    "                val_acc.append(v_acc)\n",
    "            \n",
    "            # Backward Propagation\n",
    "            for layer in self.layers[::-1]:\n",
    "                layer.backward_propagation()\n",
    "                layer.update_weight(learning_rate, update_method, lambda_ = lambda_ )\n",
    "        \n",
    "        # Finally return loss list\n",
    "        return train_loss, train_acc, val_loss, val_acc\n",
    "    \n",
    "    def predict(self, X):\n",
    "        self.load_data(X, y = None)\n",
    "        for layer in self.layers:\n",
    "            layer.forward_propagation()\n",
    "        return layers[-1].predict()\n",
    "        \n",
    "    def evaluate(self, X, y):\n",
    "        self.load_data(X, y)\n",
    "        for layer in self.layers:\n",
    "            layer.forward_propagation()\n",
    "        loss = layers[-1].calculate_loss()\n",
    "        acc  = layers[-1].calculate_acc()\n",
    "        return acc, loss"
   ]
  },
  {
   "cell_type": "markdown",
   "metadata": {
    "collapsed": true
   },
   "source": [
    "<br/>\n",
    "# 5. Generate some dataset"
   ]
  },
  {
   "cell_type": "code",
   "execution_count": 281,
   "metadata": {
    "collapsed": true
   },
   "outputs": [],
   "source": [
    "import sklearn.datasets\n",
    "import matplotlib.pyplot as plt\n",
    "import numpy as np\n",
    "from sklearn.datasets import make_moons\n",
    "%matplotlib inline"
   ]
  },
  {
   "cell_type": "code",
   "execution_count": 282,
   "metadata": {},
   "outputs": [
    {
     "name": "stdout",
     "output_type": "stream",
     "text": [
      "(1000, 2) (1000,)\n"
     ]
    }
   ],
   "source": [
    "X, y = make_moons(1000, noise = 0.1)\n",
    "print(X.shape, y.shape)"
   ]
  },
  {
   "cell_type": "code",
   "execution_count": 283,
   "metadata": {},
   "outputs": [
    {
     "data": {
      "text/plain": [
       "<matplotlib.collections.PathCollection at 0x1a19816470>"
      ]
     },
     "execution_count": 283,
     "metadata": {},
     "output_type": "execute_result"
    },
    {
     "data": {
      "image/png": "[encoded data removed]",
      "text/plain": [
       "<matplotlib.figure.Figure at 0x1a187d6160>"
      ]
     },
     "metadata": {},
     "output_type": "display_data"
    }
   ],
   "source": [
    "plt.scatter(X[:,0], X[:,1], c = y)"
   ]
  },
  {
   "cell_type": "markdown",
   "metadata": {},
   "source": [
    "## Split training and validation set"
   ]
  },
  {
   "cell_type": "code",
   "execution_count": 284,
   "metadata": {
    "collapsed": true
   },
   "outputs": [],
   "source": [
    "def train_test_split(X, y, test_size = 0.3, random_state = 42):\n",
    "    import random\n",
    "    num_examples = X.shape[0]\n",
    "    inds = list(range(num_examples))\n",
    "    test_ind  = random.sample(inds, int(test_size * num_examples))\n",
    "    train_ind = [ind for ind in inds if ind not in test_ind]\n",
    "    return X[train_ind,:], y[train_ind], X[test_ind,:], y[test_ind]"
   ]
  },
  {
   "cell_type": "code",
   "execution_count": 285,
   "metadata": {},
   "outputs": [
    {
     "name": "stdout",
     "output_type": "stream",
     "text": [
      "(700, 2) (700,) (300, 2) (300,)\n"
     ]
    }
   ],
   "source": [
    "X_train, y_train, X_val, y_val = train_test_split(X, y, test_size = 0.3, random_state = 42)\n",
    "print(X_train.shape, y_train.shape, X_val.shape, y_val.shape)"
   ]
  },
  {
   "cell_type": "markdown",
   "metadata": {},
   "source": [
    "# 6. Design Network"
   ]
  },
  {
   "cell_type": "code",
   "execution_count": 286,
   "metadata": {
    "collapsed": true
   },
   "outputs": [],
   "source": [
    "np.random.seed(1)\n",
    "network = Network()\n",
    "layers = []"
   ]
  },
  {
   "cell_type": "code",
   "execution_count": 287,
   "metadata": {
    "collapsed": true
   },
   "outputs": [],
   "source": [
    "layers.append(Layer(activation_function = Tanh(), num_neurons = 5, batch_norm = True))\n",
    "layers.append(Layer(activation_function = Tanh(), num_neurons = 5, batch_norm = True))\n",
    "layers.append(Layer(activation_function = Softmax(), num_neurons = 2))\n",
    "for layer in layers:\n",
    "    network.add(layer)"
   ]
  },
  {
   "cell_type": "markdown",
   "metadata": {},
   "source": [
    "<br/>\n",
    "# 7. Train network"
   ]
  },
  {
   "cell_type": "markdown",
   "metadata": {},
   "source": [
    "### Training Parameters"
   ]
  },
  {
   "cell_type": "code",
   "execution_count": 288,
   "metadata": {
    "collapsed": true
   },
   "outputs": [],
   "source": [
    "batch_size = 700 # Batch size for gradient update \n",
    "num_iter = 1000 # Number of iterations\n",
    "learning_rate = 0.003 # Learning Rate\n",
    "lambda_ = 0. # Regularization parameter"
   ]
  },
  {
   "cell_type": "markdown",
   "metadata": {},
   "source": [
    "### Initialize and Train"
   ]
  },
  {
   "cell_type": "code",
   "execution_count": 289,
   "metadata": {},
   "outputs": [
    {
     "name": "stdout",
     "output_type": "stream",
     "text": [
      "The Training Loss at Iteration  0  is:  0.496429662574 , Accuracy is 0.837142857143\n",
      "The Validation Loss at Iteration  0  is:  0.863333333333 , Accuracy is 0.863333333333\n",
      "The Training Loss at Iteration  100  is:  0.0067420842215 , Accuracy is 1.0\n",
      "The Validation Loss at Iteration  100  is:  0.996666666667 , Accuracy is 0.996666666667\n",
      "The Training Loss at Iteration  200  is:  0.00755070790524 , Accuracy is 1.0\n",
      "The Validation Loss at Iteration  200  is:  0.993333333333 , Accuracy is 0.993333333333\n",
      "The Training Loss at Iteration  300  is:  0.00179748919132 , Accuracy is 1.0\n",
      "The Validation Loss at Iteration  300  is:  0.996666666667 , Accuracy is 0.996666666667\n",
      "The Training Loss at Iteration  400  is:  0.000974724614221 , Accuracy is 1.0\n",
      "The Validation Loss at Iteration  400  is:  0.996666666667 , Accuracy is 0.996666666667\n",
      "The Training Loss at Iteration  500  is:  0.000667218436794 , Accuracy is 1.0\n",
      "The Validation Loss at Iteration  500  is:  1.0 , Accuracy is 1.0\n",
      "The Training Loss at Iteration  600  is:  0.000506865474988 , Accuracy is 1.0\n",
      "The Validation Loss at Iteration  600  is:  1.0 , Accuracy is 1.0\n",
      "The Training Loss at Iteration  700  is:  0.000408315451583 , Accuracy is 1.0\n",
      "The Validation Loss at Iteration  700  is:  1.0 , Accuracy is 1.0\n",
      "The Training Loss at Iteration  800  is:  0.000341653286689 , Accuracy is 1.0\n",
      "The Validation Loss at Iteration  800  is:  1.0 , Accuracy is 1.0\n",
      "The Training Loss at Iteration  900  is:  0.00029358112011 , Accuracy is 1.0\n",
      "The Validation Loss at Iteration  900  is:  1.0 , Accuracy is 1.0\n"
     ]
    }
   ],
   "source": [
    "network.initialize(input = X_train, y = y_train, batch_size = batch_size)\n",
    "train_loss, train_acc, val_loss, val_acc = network.train(\n",
    "                     num_iter = num_iter, \n",
    "                     learning_rate = learning_rate, \n",
    "                     update_method = 'Vanilla', \n",
    "                     batch_size = batch_size, \n",
    "                     rand_ = False, \n",
    "                     lambda_ = 0,\n",
    "                     Val_X = X_val, \n",
    "                     Val_y = y_val\n",
    "                     )"
   ]
  },
  {
   "cell_type": "markdown",
   "metadata": {},
   "source": [
    "## Result Visualization"
   ]
  },
  {
   "cell_type": "markdown",
   "metadata": {},
   "source": [
    "# 8. Result Evaluation"
   ]
  },
  {
   "cell_type": "markdown",
   "metadata": {},
   "source": [
    "## 8.1 Plot loss and accuracy"
   ]
  },
  {
   "cell_type": "code",
   "execution_count": 290,
   "metadata": {},
   "outputs": [
    {
     "data": {
      "text/plain": [
       "[Text(0,0.5,'Train Loss')]"
      ]
     },
     "execution_count": 290,
     "metadata": {},
     "output_type": "execute_result"
    },
    {
     "data": {
      "image/png": "[encoded data removed]",
      "text/plain": [
       "<matplotlib.figure.Figure at 0x1a198be908>"
      ]
     },
     "metadata": {},
     "output_type": "display_data"
    }
   ],
   "source": [
    "import pandas as pd\n",
    "import seaborn as sns\n",
    "import matplotlib.pyplot as plt\n",
    "f, axes = plt.subplots(1, 2, figsize=(14, 5))\n",
    "sns.set_context(\"notebook\", font_scale=1.5, rc={\"lines.linewidth\": 1})\n",
    "\n",
    "df = pd.DataFrame(columns = ['Type','Iteration', 'Value'])\n",
    "Values = train_loss, train_acc, val_loss, val_acc\n",
    "Types = ['Loss', 'Accuracy', 'Loss', 'Accuracy']\n",
    "Splits = ['Train', 'Train', 'Validation', 'Validation']\n",
    "\n",
    "for Value, Type, Split in zip(Values, Types, Splits):\n",
    "    dff = pd.DataFrame({'Type': Type,\n",
    "                        'Split': Split,\n",
    "                        'Iteration': list(map(lambda x: x * 100,list(range(len(train_loss))))),\n",
    "                        'Value': Value})\n",
    "    df = pd.concat([dff,df])\n",
    "\n",
    "ax = sns.pointplot(x = 'Iteration', y = 'Value', data = df[df.Type == 'Accuracy'], hue = 'Split', ax=axes[0])\n",
    "ax.set( ylabel='Accuracy')\n",
    "ax = sns.pointplot(x = 'Iteration', y = 'Value', data = df[(df.Type == 'Loss') & (df.Split == 'Train')], ax=axes[1])\n",
    "ax.set( ylabel='Train Loss')"
   ]
  },
  {
   "cell_type": "markdown",
   "metadata": {},
   "source": [
    "## 8.2 Visualize Decision Boundary"
   ]
  },
  {
   "cell_type": "code",
   "execution_count": 100,
   "metadata": {},
   "outputs": [
    {
     "name": "stdout",
     "output_type": "stream",
     "text": [
      "The autoreload extension is already loaded. To reload it, use:\n",
      "  %reload_ext autoreload\n"
     ]
    },
    {
     "data": {
      "image/png": "[encoded data removed]",
      "text/plain": [
       "<matplotlib.figure.Figure at 0x1a24f29470>"
      ]
     },
     "metadata": {},
     "output_type": "display_data"
    }
   ],
   "source": [
    "from util.plots import plot_decision_boundary\n",
    "%load_ext autoreload\n",
    "%autoreload 2\n",
    "plot_decision_boundary(lambda x: network.predict(x), X, y)\n",
    "plt.title(\"Decision Boundary for hidden layer size 3\")\n",
    "plt.show()"
   ]
  },
  {
   "cell_type": "markdown",
   "metadata": {},
   "source": [
    "## 8.3 Gradient check"
   ]
  },
  {
   "cell_type": "markdown",
   "metadata": {},
   "source": [
    "The purpose is to confirm that gradient calculation was correct"
   ]
  },
  {
   "cell_type": "code",
   "execution_count": 56,
   "metadata": {},
   "outputs": [
    {
     "name": "stdout",
     "output_type": "stream",
     "text": [
      "The Training Loss at Iteration  0  is:  1.10883335864\n",
      "The Training Loss at Iteration  50  is:  1.10883335864\n"
     ]
    },
    {
     "data": {
      "text/plain": [
       "[1.1088333586431673, 1.1088333586431673]"
      ]
     },
     "execution_count": 56,
     "metadata": {},
     "output_type": "execute_result"
    }
   ],
   "source": [
    "# Re-initialize network, with same X and y, fixed input, no weight update, no regularization\n",
    "network.initialize(input = X, y = y, batch_size = batch_size)\n",
    "network.train(num_iter = 100, learning_rate = 0, batch_size = batch_size, rand_ = False, lambda_ = 0)"
   ]
  },
  {
   "cell_type": "markdown",
   "metadata": {},
   "source": [
    "Perturbate X[0,0] by +/- 1e5"
   ]
  },
  {
   "cell_type": "code",
   "execution_count": 57,
   "metadata": {
    "collapsed": true
   },
   "outputs": [],
   "source": [
    "X_plus = X.copy()\n",
    "X_plus[0,0] += 1e-5\n",
    "X_minus = X.copy()\n",
    "X_minus[0,0] -= 1e-5"
   ]
  },
  {
   "cell_type": "markdown",
   "metadata": {},
   "source": [
    "Calculate gradient"
   ]
  },
  {
   "cell_type": "code",
   "execution_count": 58,
   "metadata": {},
   "outputs": [
    {
     "name": "stdout",
     "output_type": "stream",
     "text": [
      "Calculated Gradient:  0.266962516537\n"
     ]
    }
   ],
   "source": [
    "_, loss_plus = network.evaluate(X_plus, y)\n",
    "_, loss_minus = network.evaluate(X_minus, y)\n",
    "c_gradient = (loss_plus - loss_minus) / (2e-5) * X.shape[0]\n",
    "print('Calculated Gradient: ', c_gradient)"
   ]
  },
  {
   "cell_type": "code",
   "execution_count": 59,
   "metadata": {},
   "outputs": [
    {
     "name": "stdout",
     "output_type": "stream",
     "text": [
      "Analytical Gradient:  0.266962511266\n"
     ]
    }
   ],
   "source": [
    "a_gradient = network.layers[0].dX[0,0]\n",
    "print('Analytical Gradient: ' , a_gradient)"
   ]
  },
  {
   "cell_type": "code",
   "execution_count": 60,
   "metadata": {},
   "outputs": [
    {
     "name": "stdout",
     "output_type": "stream",
     "text": [
      "Relative error:  1.97449561121e-08\n"
     ]
    }
   ],
   "source": [
    "print('Relative error: ', abs(c_gradient - a_gradient) / max(c_gradient, a_gradient))"
   ]
  },
  {
   "cell_type": "markdown",
   "metadata": {},
   "source": [
    "A better implementation will be checking gradients also at following steps, and for all parameters"
   ]
  },
  {
   "cell_type": "code",
   "execution_count": null,
   "metadata": {
    "collapsed": true
   },
   "outputs": [],
   "source": []
  }
 ],
 "metadata": {
  "kernelspec": {
   "display_name": "Python [default]",
   "language": "python",
   "name": "python3"
  },
  "language_info": {
   "codemirror_mode": {
    "name": "ipython",
    "version": 3
   },
   "file_extension": ".py",
   "mimetype": "text/x-python",
   "name": "python",
   "nbconvert_exporter": "python",
   "pygments_lexer": "ipython3",
   "version": "3.6.3"
  }
 },
 "nbformat": 4,
 "nbformat_minor": 2
}
