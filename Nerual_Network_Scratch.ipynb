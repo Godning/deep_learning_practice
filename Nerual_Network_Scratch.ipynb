{
 "cells": [
  {
   "cell_type": "markdown",
   "metadata": {},
   "source": [
    "# Write Neural Network from Scratch using Numpy\n",
    "<br/><br/>"
   ]
  },
  {
   "cell_type": "markdown",
   "metadata": {},
   "source": [
    "# Define Gates (Add, Multiply)"
   ]
  },
  {
   "cell_type": "markdown",
   "metadata": {},
   "source": [
    "### Some Notations:\n",
    "$$\n",
    "WX + b = \\mathbf{S} \\\\\n",
    "\\frac{\\partial{L}}{\\partial{WX}} = d(WX) \\\\\n",
    "\\frac{\\partial{L}}{\\partial{S}} = d({S}) \\\\\n",
    "$$"
   ]
  },
  {
   "cell_type": "markdown",
   "metadata": {},
   "source": [
    "Math: http://cs231n.github.io/optimization-2/"
   ]
  },
  {
   "cell_type": "code",
   "execution_count": 1,
   "metadata": {},
   "outputs": [],
   "source": [
    "class Mul:\n",
    "    def forward(self, W, X):\n",
    "        return np.dot(X, W)\n",
    "    \n",
    "    def backward(self, W, X, dWX):\n",
    "        dW = np.dot( np.transpose(X), dWX )\n",
    "        dX = np.dot( dWX, np.transpose (W))\n",
    "        return dW, dX"
   ]
  },
  {
   "cell_type": "code",
   "execution_count": 2,
   "metadata": {},
   "outputs": [],
   "source": [
    "class Add:\n",
    "    def forward(self, WX, b):\n",
    "        return WX + b\n",
    "\n",
    "    def backward(self, WX, b, dS):\n",
    "        dWX = dS * np.ones_like(WX, dtype=np.float64)\n",
    "        db = np.dot(np.ones((1, dS.shape[0]), dtype=np.float64), dS)\n",
    "        return db, dWX"
   ]
  },
  {
   "cell_type": "markdown",
   "metadata": {},
   "source": [
    "# Define Activaton Functions (ReLU, Sigmoid, Tanh, Softmax, etc.)"
   ]
  },
  {
   "cell_type": "markdown",
   "metadata": {},
   "source": [
    "$$\n",
    "Activation(S) = Z \\\\\n",
    "Input: \n",
    "\\frac{\\partial{L}}{\\partial{Z}} = d(Z) \\\\\n",
    "Output:\n",
    "\\frac{\\partial{L}}{\\partial{S}} = d(S) \\\\\n",
    "$$\n"
   ]
  },
  {
   "cell_type": "code",
   "execution_count": 3,
   "metadata": {},
   "outputs": [],
   "source": [
    "class ReLU:\n",
    "    def forward(self, S):\n",
    "        Z = S * (S > 0)\n",
    "        return Z\n",
    "    \n",
    "    def backward(self, S, dZ):\n",
    "        dS = 1. * (S > 0) * dZ\n",
    "        return dS"
   ]
  },
  {
   "cell_type": "code",
   "execution_count": 4,
   "metadata": {},
   "outputs": [],
   "source": [
    "class Tanh:\n",
    "    def forward(self, S):\n",
    "        Z = np.tanh(S)\n",
    "        return Z\n",
    "    \n",
    "    def backward(self, S, dZ):\n",
    "        Z = self.forward(S)\n",
    "        dS = (1.0 - np.square(Z)) * dZ\n",
    "        return dS"
   ]
  },
  {
   "cell_type": "code",
   "execution_count": 5,
   "metadata": {},
   "outputs": [],
   "source": [
    "class Sigmoid:\n",
    "    def forward(self, S):\n",
    "        Z = 1. / (1.0 + np.exp(-S))\n",
    "        return Z\n",
    "    \n",
    "    def backward(self, S, dZ):\n",
    "        Z = self.forward(S)\n",
    "        dS =(1 - Z) * Z * dZ\n",
    "        return dS"
   ]
  },
  {
   "cell_type": "code",
   "execution_count": 6,
   "metadata": {},
   "outputs": [],
   "source": [
    "class  Softmax:\n",
    "    # For Training\n",
    "    def __init__(self):\n",
    "        self.num_examples = 0\n",
    "    \n",
    "    def forward(self, S):\n",
    "        self.num_examples = S.shape[0]\n",
    "        exp_S = np.exp(S)\n",
    "        Z = exp_S / np.sum(exp_S, axis = 1, keepdims = True)\n",
    "        return Z\n",
    "\n",
    "    def backward(self, S, y): # Note: y instead of dZ\n",
    "        probs = Z = self.forward(S)\n",
    "        for i in range(len(y)):\n",
    "            true_label = y[i]\n",
    "            probs[i][true_label] -= 1 # see equation above\n",
    "        dS = probs\n",
    "        return dS\n",
    "    \n",
    "    # For evaluation    \n",
    "    def forward_loss(self, Z, y):\n",
    "        probs = Z\n",
    "        log_probs = []\n",
    "        for prob, true_label in zip(probs, y):\n",
    "            log_probs.append(np.log(prob[true_label]))\n",
    "        avg_cross_entropy_loss = - 1. / self.num_examples * np.sum(log_probs) # see equation above\n",
    "        return avg_cross_entropy_loss\n",
    "    \n",
    "    # For prediction\n",
    "    def predict(self, Z):\n",
    "        return np.argmax(Z, axis = 1)"
   ]
  },
  {
   "cell_type": "markdown",
   "metadata": {},
   "source": [
    "$\n",
    "for\\ each\\ sample\\ i: \n",
    "$\n",
    "$$\n",
    "\\hat{y_{k}} = softmax(S_1, S_2, ..., S_{k}),\\ k\\ is\\ class\\ index \\\\\n",
    "\\mathbf{E} = - \\sum_{i=1}^N y_{ik} log(\\hat{y_{ik}} )\\\\\n",
    "\\frac{\\partial\\mathbf{E}}{\\partial S_{k}} = {\\hat y}_{k} - y_{k},\\ where\\ y_{k} = 0, 1\\\\\n",
    "$$"
   ]
  },
  {
   "cell_type": "markdown",
   "metadata": {},
   "source": [
    "### Batch Normalization\n",
    "- **Idea**: Normalize the inputs before activation function for each layer\n",
    "- **Advantages**: \n",
    "    - Faster training;\n",
    "    - Allow scale and shift"
   ]
  },
  {
   "cell_type": "markdown",
   "metadata": {},
   "source": [
    "<img src=\"https://kratzert.github.io/images/bn_backpass/bn_algorithm.PNG\" width=\"400\">"
   ]
  },
  {
   "cell_type": "code",
   "execution_count": 7,
   "metadata": {},
   "outputs": [],
   "source": [
    "class BatchNorm:\n",
    "    def __init__(self):\n",
    "        self.cache = ()\n",
    "        \n",
    "    def forward(self, X, gamma, beta, eps):\n",
    "        num_examples = X.shape[0]\n",
    "        \n",
    "        mu_B = 1. / num_examples * np.sum(X, axis = 0)\n",
    "        X_mu = X - mu_B\n",
    "        var_B = 1. / num_examples * np.sum(  X_mu ** 2, axis = 0 )\n",
    "        sqrt_var_B = np.sqrt(var_B + eps)\n",
    "        i_sqrt_var_B = 1. / sqrt_var_B\n",
    "        X_hat =  X_mu * i_sqrt_var_B\n",
    "        gammaX = gamma * X_hat\n",
    "        DZ = gammaX + beta\n",
    "        \n",
    "        self.cache = (X_hat, X_mu, gamma, i_sqrt_var_B, sqrt_var_B, var_B, eps)\n",
    "        return DZ\n",
    "    \n",
    "    def backward(self, dDZ):\n",
    "        num_examples = dDZ.shape[0]\n",
    "        X_hat, X_mu, gamma, i_sqrt_var_B, sqrt_var_B, var_B, eps = self.cache\n",
    "        \n",
    "        # scale and shift\n",
    "        dbeta = np.sum(dDZ, axis = 0)\n",
    "        dgammaX = dDZ\n",
    "        dgamma = np.sum(dgammaX * X_hat, axis = 0)\n",
    "        dXhat = dgammaX * gamma\n",
    "        \n",
    "        # Standardize\n",
    "        di_sqrt_var_B = np.sum(dXhat * X_mu, axis = 0)\n",
    "        d_x_mu_2 = dXhat * i_sqrt_var_B\n",
    "        dsqrt_var_B = -1. / (sqrt_var_B ** 2) * di_sqrt_var_B\n",
    "        dvar_B = 0.5 * 1. / np.sqrt(var_B + eps) * dsqrt_var_B\n",
    "\n",
    "        # Batch variance\n",
    "        dsquare = 1. / num_examples * np.ones_like(dDZ) * dvar_B\n",
    "        d_x_mu_1 = 2 * X_mu * dsquare\n",
    "        \n",
    "        # Batch mean\n",
    "        d_x_mu = d_x_mu_2 + d_x_mu_1 # d(f(x)g(x)) = f(x)g'(x) = f'(x)g(x)\n",
    "        dmu = -1. * np.sum(d_x_mu, axis = 0)\n",
    "        dx_2 = d_x_mu\n",
    "        dx_1 = 1. / num_examples * np.ones_like(dDZ) * dmu\n",
    "        dx = dx_2 + dx_1\n",
    "        \n",
    "        return dx, dgamma, dbeta"
   ]
  },
  {
   "cell_type": "markdown",
   "metadata": {},
   "source": [
    "# Define Optimizer"
   ]
  },
  {
   "cell_type": "markdown",
   "metadata": {},
   "source": [
    "### Note 1: Weights Initialization\n",
    "- **All zero**: wrong: neuron outputs and gradients would be same; same update\n",
    "- **Number to small**: small gradients for inputs; gradient diminishing for deep NN\n",
    "- **Preferred: All neuron with same output distribution**: \n",
    "    - w = np.random.randn(n) / sqrt(n), where n is number of inputs. \n",
    "    - It can be proved that Var(S) = Var(WX) = Var(X)"
   ]
  },
  {
   "cell_type": "markdown",
   "metadata": {},
   "source": [
    "### Note 2: Param Update and Learning Rate"
   ]
  },
  {
   "cell_type": "markdown",
   "metadata": {},
   "source": [
    "- Step decay: Reduce the learning rate by some factor every few epochs. Other approaches also avalable, like exponential decay, 1/t decay, etc.\n",
    "- Second-order method, not common\n",
    "- Per-parameter adaptive learning rate methods: Adagrad, Adam"
   ]
  },
  {
   "cell_type": "markdown",
   "metadata": {},
   "source": [
    "<img src=\"http://cs231n.github.io/assets/nn3/nesterov.jpeg\" width=\"600\">"
   ]
  },
  {
   "cell_type": "code",
   "execution_count": 8,
   "metadata": {},
   "outputs": [],
   "source": [
    "# Treat all elements of dX as a whole\n",
    "#  Intuition: \n",
    "#  If gradient direction not changed, increase update, faster convergence\n",
    "#  If gradient direction changed, reduce update, reduce oscillation\n",
    "\n",
    "def VanillaUpdate(x, dx, learning_rate):\n",
    "    x += -learning_rate * dx\n",
    "    return x\n",
    "\n",
    "def MomentumUpdate(x, dx, v, learning_rate, mu):\n",
    "    v = mu * v - learning_rate * dx # integrate velocity, mu's typical value is about 0.9\n",
    "    x += v # integrate position     \n",
    "    return x, v"
   ]
  },
  {
   "cell_type": "code",
   "execution_count": 9,
   "metadata": {},
   "outputs": [],
   "source": [
    "# Treat each element of dX adaptively\n",
    "# Intuition:\n",
    "# 1. Those dx receiving infrequent updates should have higher learning rate. vice versa \n",
    "# 2. We don't want: the gradients accumulate, and the learning rate monotically decrease, \n",
    "# 2. We want: modulates the learning rate of each weight based on the magnitudes of its gradient\n",
    "# 3. Still want to use \"momentum-like\" update to get a smooth gradient\n",
    "\n",
    "# 1. AdaGrad\n",
    "def AdaGrad(x, dx, learning_rate, cache, eps):\n",
    "    cache += dx**2\n",
    "    x += - learning_rate * dx / (np.sqrt(cache) + eps) # (usually set somewhere in range from 1e-4 to 1e-8)\n",
    "    return x, cache\n",
    "    \n",
    "# 1+2. RMSprop\n",
    "def RMSprop(x, dx, learning_rate, cache, eps, decay_rate): #Here, decay_rate typical values are [0.9, 0.99, 0.999]\n",
    "    cache = decay_rate * cache + (1 - decay_rate) * dx**2\n",
    "    x += - learning_rate * dx / (np.sqrt(cache) + eps)\n",
    "    return x, cache\n",
    "    \n",
    "# 1+2+3. Adam\n",
    "def Adam(x, dx, learning_rate, m, v, t, beta1, beta2, eps):\n",
    "    m = beta1*m + (1-beta1)*dx # Smooth gradient\n",
    "    #mt = m / (1-beta1**t) # bias-correction step\n",
    "    v = beta2*v + (1-beta2)*(dx**2) # keep track of past updates\n",
    "    #vt = v / (1-beta2**t) # bias-correction step\n",
    "    x += - learning_rate * m / (np.sqrt(v) + eps) # eps = 1e-8, beta1 = 0.9, beta2 = 0.999   \n",
    "    return x, m, v"
   ]
  },
  {
   "cell_type": "code",
   "execution_count": 10,
   "metadata": {},
   "outputs": [],
   "source": [
    "class WeightUpdate:\n",
    "    def __init__(self, init_value):\n",
    "        self.val = init_value\n",
    "        self.cache = np.zeros_like(self.val, dtype=np.float64)\n",
    "        self.m = np.zeros_like(self.val, dtype=np.float64)\n",
    "        self.v = np.zeros_like(self.val, dtype=np.float64)\n",
    "        self.t = 0\n",
    "    \n",
    "    def Update(self, d, learning_rate, lambda_ , method):\n",
    "        \n",
    "        old_val = self.val\n",
    "        if method == 'Vanilla':\n",
    "            self.val = VanillaUpdate(self.val, d, learning_rate)\n",
    "        elif method == 'MomentumUpdate':\n",
    "            self.val, self.v = MomentumUpdate(self.val, d, self.v, learning_rate, mu = 0.9)\n",
    "        elif method == 'AdaGrad':\n",
    "            self.val, self.cache = AdaGrad(self.val, d, learning_rate, self.cache, eps = 1e-5)\n",
    "        elif method == 'RMSprop':\n",
    "            self.val, self.cache = AdaGrad(self.val, d, learning_rate, self.cache, eps = 1e-5, decay_rate = 0.99)\n",
    "        elif method == 'Adam':\n",
    "            self.val, self.m, self.v = Adam(self.val, d, learning_rate, self.m, self.v, self.t, beta1 = 0.9, beta2 = 0.999, eps = 1e-8)  \n",
    "            self.t += 1\n",
    "            \n",
    "        # Regularization\n",
    "        self.val -= lambda_ * old_val\n",
    "        return self.val"
   ]
  },
  {
   "cell_type": "markdown",
   "metadata": {},
   "source": [
    "# 4. Define Layer"
   ]
  },
  {
   "cell_type": "code",
   "execution_count": 11,
   "metadata": {},
   "outputs": [],
   "source": [
    "class Layer:\n",
    "    def __init__(self, activation_function, num_neurons, batch_norm = False, dropout_p = 1.0):\n",
    "        self.dim = num_neurons\n",
    "        self.activation = activation_function\n",
    "        self.batch_norm = batch_norm\n",
    "        if batch_norm:\n",
    "            self.batchnorm = BatchNorm()\n",
    "        self.isfirst = False\n",
    "        self.islast = False\n",
    "        self.before = None\n",
    "        self.p = dropout_p\n",
    "\n",
    "    def set_first_layer(self, input):\n",
    "        self.isfirst = True\n",
    "        self.X = input\n",
    "        \n",
    "    def set_last_layer(self, y):\n",
    "        self.islast = True\n",
    "        self.y = y\n",
    "    \n",
    "    def initialize_Wb(self):\n",
    "        if self.isfirst:\n",
    "            before_dim = self.X.shape[1]\n",
    "        else:\n",
    "            before_dim = self.before.dim\n",
    "        self.W = np.random.randn(before_dim, self.dim) / np.sqrt(before_dim) # see notes above\n",
    "        self.b = np.random.randn(self.dim).reshape(1, self.dim) # see notes above\n",
    "        self.gamma, self.beta = (1., 0.)\n",
    "\n",
    "    def forward_propagation(self):\n",
    "        if not self.isfirst:\n",
    "            self.X = self.before.Z\n",
    "            \n",
    "        self.mask = np.random.rand(*self.W.shape) < self.p / self.p\n",
    "        self.W *= self.mask\n",
    "        self.WX = Mul().forward( self.W, self.X )\n",
    "        self.S = Add().forward( self.WX, self.b)\n",
    "        if self.batch_norm:\n",
    "            self.SZ = self.batchnorm.forward( self.S, self.gamma, self.beta, eps = 0)\n",
    "        else:\n",
    "            self.SZ = self.S\n",
    "        self.Z = self.activation.forward(self.SZ)\n",
    "            \n",
    "    def backward_propagation(self):\n",
    "        if self.islast:\n",
    "            self.dZ = self.y\n",
    "        \n",
    "        self.dSZ = self.activation.backward(self.SZ, self.dZ)\n",
    "        if self.batch_norm:\n",
    "            self.dS, self.dgamma, self.dbeta = self.batchnorm.backward(self.dSZ)\n",
    "        else:\n",
    "            self.dS = self.dSZ\n",
    "            self.dgamma, self.dbeta = 0,0\n",
    "        self.db, self.dWX = Add().backward(self.WX, self.b, self.dS)\n",
    "        self.dW, self.dX = Mul().backward(self.W, self.X, self.dWX)\n",
    "        self.dW *= self.mask\n",
    "        \n",
    "        if not self.isfirst:\n",
    "            self.before.dZ = self.dX\n",
    "    \n",
    "    def update_weight(self, learning_rate, lambda_ , method):\n",
    "        \n",
    "        # Create variable list\n",
    "        self.weights = [self.W, self.b, self.gamma, self.beta]\n",
    "        self.ds = [self.dW, self.db, self.dgamma, self.dbeta]\n",
    "\n",
    "        # First Time\n",
    "        if not hasattr(self, 'updates'):      \n",
    "            self.updates = []\n",
    "            for weight in self.weights:\n",
    "                self.updates.append(WeightUpdate(weight))\n",
    "        \n",
    "        # Calculate update for each iteration\n",
    "        new_weights = []\n",
    "        for weight_update, d in zip(self.updates, self.ds):\n",
    "            new_weights.append(weight_update.Update(d, learning_rate, lambda_, method))\n",
    "        \n",
    "        # Update weights\n",
    "        self.W, self.b, self.gamma, self.beta = new_weights\n",
    "        \n",
    "        #self.W += -learning_rate * self.dW + (- lambda_ * self.W)\n",
    "        #self.b += -learning_rate * self.db\n",
    "        #self.gamma += -learning_rate * self.dgamma\n",
    "        #self.beta  += -learning_rate * self.dbeta\n",
    "            \n",
    "    # Only for softmax layer\n",
    "    def calculate_loss(self):\n",
    "        loss = self.activation.forward_loss(self.Z, self.y)\n",
    "        return loss\n",
    "            \n",
    "    def predict(self):\n",
    "        return self.activation.predict(self.Z)\n",
    "    \n",
    "    def calculate_acc(self): \n",
    "        pred = self.predict()\n",
    "        return sum( pred == self.y ) / len(self.y)   "
   ]
  },
  {
   "cell_type": "markdown",
   "metadata": {},
   "source": [
    "# Define Network"
   ]
  },
  {
   "cell_type": "code",
   "execution_count": 12,
   "metadata": {},
   "outputs": [],
   "source": [
    "class Network:\n",
    "    def __init__(self):\n",
    "        self.layers = []\n",
    "        self.input = []\n",
    "        self.y = []\n",
    "        \n",
    "    def add(self, new_layer):\n",
    "        if self.layers:\n",
    "            new_layer.before = self.layers[-1]\n",
    "        self.layers.append(new_layer)\n",
    "    \n",
    "    def load_data(self, input, y):\n",
    "        self.layers[0].set_first_layer(input)\n",
    "        self.layers[-1].set_last_layer(y)\n",
    "        \n",
    "    def initialize(self, input, y, batch_size):\n",
    "        self.input = input\n",
    "        self.y = y\n",
    "        self.load_data(input[:batch_size,:], y[:batch_size])\n",
    "        for layer in layers:\n",
    "            layer.initialize_Wb()\n",
    "\n",
    "    def train(self, num_iter, learning_rate, batch_size, rand_, lambda_, optimizer = 'Vanilla', Val_X = None, Val_y = None, \n",
    "             CAL_STEP = 100, PRINT_STEP = 100):\n",
    "        \n",
    "        train_loss = []\n",
    "        train_acc = []\n",
    "        val_loss = []\n",
    "        val_acc = []\n",
    "        \n",
    "        for i in range(num_iter):    \n",
    "            # Calculate batch index\n",
    "            if not rand_:\n",
    "                idx = list(range(self.input.shape[0]))\n",
    "            else:\n",
    "                idx = np.random.randint(self.input.shape[0], size = batch_size)\n",
    "            \n",
    "            self.load_data(self.input[idx,:], self.y[idx])\n",
    "            \n",
    "            # Forward Propagation\n",
    "            for layer in self.layers:\n",
    "                layer.forward_propagation()\n",
    "                \n",
    "            # Print Traing Acc/Loss\n",
    "            if (i % CAL_STEP == 0):\n",
    "                t_loss = layers[-1].calculate_loss()\n",
    "                t_acc  = layers[-1].calculate_acc()\n",
    "                train_loss.append(t_loss)\n",
    "                train_acc.append(t_acc)\n",
    "                \n",
    "            if (i % PRINT_STEP == 0):\n",
    "                print('The Training Loss at Iteration ', i, ' is: ' , t_loss, ', Accuracy is', t_acc)\n",
    "                \n",
    "            # Backward Propagation\n",
    "            for layer in self.layers[::-1]:\n",
    "                layer.backward_propagation()\n",
    "                layer.update_weight(learning_rate, lambda_ = lambda_ , method = optimizer)\n",
    "            \n",
    "            # Print Validation Acc/Loss\n",
    "            if (i % CAL_STEP == 0 and Val_X is not None):\n",
    "                v_acc, v_loss = self.evaluate(Val_X, Val_y)\n",
    "                val_loss.append(v_loss)\n",
    "                val_acc.append(v_acc) \n",
    "                \n",
    "            if (i % PRINT_STEP == 0 and Val_X is not None):\n",
    "                print('The Validation Loss at Iteration ', i, ' is: ' , v_loss, ', Accuracy is', v_acc)\n",
    "\n",
    "        # Finally return loss list\n",
    "        return train_loss, train_acc, val_loss, val_acc\n",
    "    \n",
    "    def predict(self, X):\n",
    "        self.load_data(X, y = None)\n",
    "        for layer in self.layers:\n",
    "            layer.forward_propagation()\n",
    "        return layers[-1].predict()\n",
    "        \n",
    "    def evaluate(self, X, y):\n",
    "        self.load_data(X, y)\n",
    "        for layer in self.layers:\n",
    "            layer.forward_propagation()\n",
    "        loss = layers[-1].calculate_loss()\n",
    "        acc  = layers[-1].calculate_acc()\n",
    "        return acc, loss"
   ]
  },
  {
   "cell_type": "markdown",
   "metadata": {
    "collapsed": true
   },
   "source": [
    "<br/>\n",
    "# Generate some dataset"
   ]
  },
  {
   "cell_type": "code",
   "execution_count": 13,
   "metadata": {},
   "outputs": [],
   "source": [
    "import sklearn.datasets\n",
    "import matplotlib.pyplot as plt\n",
    "import numpy as np\n",
    "from sklearn.datasets import make_moons\n",
    "%matplotlib inline"
   ]
  },
  {
   "cell_type": "markdown",
   "metadata": {},
   "source": [
    "### Option 1: Simple dataset"
   ]
  },
  {
   "cell_type": "code",
   "execution_count": 14,
   "metadata": {},
   "outputs": [
    {
     "name": "stdout",
     "output_type": "stream",
     "text": [
      "(1000, 2) (1000,)\n"
     ]
    }
   ],
   "source": [
    "X, y = make_moons(1000, noise = 0.1)\n",
    "print(X.shape, y.shape)"
   ]
  },
  {
   "cell_type": "code",
   "execution_count": 15,
   "metadata": {},
   "outputs": [
    {
     "data": {
      "text/plain": [
       "<matplotlib.collections.PathCollection at 0x10e682f60>"
      ]
     },
     "execution_count": 15,
     "metadata": {},
     "output_type": "execute_result"
    },
    {
     "data": {
      "image/png": "[encoded data removed]",
      "text/plain": [
       "<matplotlib.figure.Figure at 0x1061a3780>"
      ]
     },
     "metadata": {},
     "output_type": "display_data"
    }
   ],
   "source": [
    "plt.scatter(X[:,0], X[:,1], c = y)"
   ]
  },
  {
   "cell_type": "markdown",
   "metadata": {},
   "source": [
    "### Option 2: MNIST"
   ]
  },
  {
   "cell_type": "code",
   "execution_count": null,
   "metadata": {},
   "outputs": [],
   "source": [
    "# Only using the dataset, not using any function\n",
    "from tensorflow.examples.tutorials.mnist import input_data\n",
    "mnist = input_data.read_data_sets(\"MNIST_data/\", one_hot=True)"
   ]
  },
  {
   "cell_type": "code",
   "execution_count": 17,
   "metadata": {},
   "outputs": [
    {
     "name": "stdout",
     "output_type": "stream",
     "text": [
      "(3000, 784) (3000,)\n"
     ]
    }
   ],
   "source": [
    "X = mnist.train.images[:3000].astype(np.float64)\n",
    "y = np.array([ np.where(r==1)[0][0] for r in mnist.train.labels[:3000]], np.int32)\n",
    "print(X.shape, y.shape)"
   ]
  },
  {
   "cell_type": "markdown",
   "metadata": {},
   "source": [
    "### Option 3: IRIS"
   ]
  },
  {
   "cell_type": "code",
   "execution_count": 14,
   "metadata": {},
   "outputs": [],
   "source": [
    "import pandas as pd\n",
    "import numpy as np\n",
    "df1 = pd.read_csv('./IRIS_data/iris_training.csv')\n",
    "df2 = pd.read_csv('./IRIS_data/iris_test.csv')\n",
    "df = pd.concat([df1,df2])\n",
    "df = pd.concat([df,df, df])"
   ]
  },
  {
   "cell_type": "code",
   "execution_count": 15,
   "metadata": {},
   "outputs": [
    {
     "data": {
      "text/plain": [
       "(450, 4)"
      ]
     },
     "execution_count": 15,
     "metadata": {},
     "output_type": "execute_result"
    }
   ],
   "source": [
    "X = np.array(df.iloc[:,:4])\n",
    "X.shape"
   ]
  },
  {
   "cell_type": "code",
   "execution_count": 16,
   "metadata": {},
   "outputs": [
    {
     "data": {
      "text/plain": [
       "(450,)"
      ]
     },
     "execution_count": 16,
     "metadata": {},
     "output_type": "execute_result"
    }
   ],
   "source": [
    "y = np.array(df.iloc[:,-1])\n",
    "y.shape"
   ]
  },
  {
   "cell_type": "markdown",
   "metadata": {},
   "source": [
    "## Split training, validation, test set"
   ]
  },
  {
   "cell_type": "code",
   "execution_count": 17,
   "metadata": {},
   "outputs": [],
   "source": [
    "def train_test_split(X, y, test_size = 0.2, random_state = 42):\n",
    "    import random\n",
    "    num_examples = X.shape[0]\n",
    "    inds = list(range(num_examples))\n",
    "    test_ind  = random.sample(inds, int(test_size * num_examples))\n",
    "    train_ind = [ind for ind in inds if ind not in test_ind]\n",
    "    return X[train_ind,:], y[train_ind], X[test_ind,:], y[test_ind]"
   ]
  },
  {
   "cell_type": "code",
   "execution_count": 18,
   "metadata": {},
   "outputs": [
    {
     "name": "stdout",
     "output_type": "stream",
     "text": [
      "(252, 4) (252,) (108, 4) (108,) (90, 4) (90,)\n"
     ]
    }
   ],
   "source": [
    "X_train_val, y_train_val, X_test, y_test = train_test_split(X, y, test_size = 0.2, random_state = 42)\n",
    "X_train, y_train, X_val, y_val = train_test_split(X_train_val, y_train_val, test_size = 0.3, random_state = 42)\n",
    "print(X_train.shape, y_train.shape, X_val.shape, y_val.shape, X_test.shape, y_test.shape)"
   ]
  },
  {
   "cell_type": "markdown",
   "metadata": {},
   "source": [
    "# Design Network"
   ]
  },
  {
   "cell_type": "markdown",
   "metadata": {},
   "source": [
    "### Option 1: Simple Example"
   ]
  },
  {
   "cell_type": "code",
   "execution_count": 19,
   "metadata": {},
   "outputs": [],
   "source": [
    "np.random.seed(5)\n",
    "network = Network()\n",
    "layers = []\n",
    "layers.append(Layer(activation_function = Tanh(), num_neurons = 5))\n",
    "layers.append(Layer(activation_function = Tanh(), num_neurons = 5))\n",
    "layers.append(Layer(activation_function = Softmax(), num_neurons = 2))\n",
    "for layer in layers:\n",
    "    network.add(layer)"
   ]
  },
  {
   "cell_type": "markdown",
   "metadata": {},
   "source": [
    "### Option 2: MNIST"
   ]
  },
  {
   "cell_type": "code",
   "execution_count": 20,
   "metadata": {},
   "outputs": [],
   "source": [
    "network = Network()\n",
    "layers = []\n",
    "layers.append(Layer(activation_function = Tanh(), num_neurons = 20))\n",
    "layers.append(Layer(activation_function = Softmax(), num_neurons = 10))\n",
    "for layer in layers:\n",
    "    network.add(layer)"
   ]
  },
  {
   "cell_type": "markdown",
   "metadata": {},
   "source": [
    "### Option 3: IRIS"
   ]
  },
  {
   "cell_type": "code",
   "execution_count": 26,
   "metadata": {},
   "outputs": [],
   "source": [
    "del network\n",
    "network = Network()\n",
    "layers = []\n",
    "layers.append(Layer(activation_function = ReLU(), num_neurons = 10, batch_norm = True))\n",
    "layers.append(Layer(activation_function = ReLU(), num_neurons = 10, batch_norm = True, dropout_p = 0.8))\n",
    "layers.append(Layer(activation_function = Softmax(), num_neurons = 3, dropout_p = 0.8))\n",
    "for layer in layers:\n",
    "    network.add(layer)"
   ]
  },
  {
   "cell_type": "markdown",
   "metadata": {},
   "source": [
    "<br/>\n",
    "# Train network"
   ]
  },
  {
   "cell_type": "markdown",
   "metadata": {},
   "source": [
    "### Training Parameters"
   ]
  },
  {
   "cell_type": "code",
   "execution_count": 27,
   "metadata": {},
   "outputs": [],
   "source": [
    "batch_size = 252 # Batch size for gradient update \n",
    "num_iter = 500 # Number of iterations\n",
    "learning_rate = 0.001 # Learning Rate\n",
    "lambda_ = 0. # Regularization parameter"
   ]
  },
  {
   "cell_type": "markdown",
   "metadata": {},
   "source": [
    "### Initialize and Train"
   ]
  },
  {
   "cell_type": "code",
   "execution_count": 28,
   "metadata": {},
   "outputs": [
    {
     "name": "stdout",
     "output_type": "stream",
     "text": [
      "The Training Loss at Iteration  0  is:  1.21752937341 , Accuracy is 0.337301587302\n",
      "The Validation Loss at Iteration  0  is:  0.838468358919 , Accuracy is 0.657407407407\n",
      "The Training Loss at Iteration  50  is:  0.0466828838235 , Accuracy is 0.996031746032\n",
      "The Validation Loss at Iteration  50  is:  0.0687612983355 , Accuracy is 0.981481481481\n",
      "The Training Loss at Iteration  100  is:  0.0519215218298 , Accuracy is 0.996031746032\n",
      "The Validation Loss at Iteration  100  is:  0.058587428388 , Accuracy is 0.981481481481\n",
      "The Training Loss at Iteration  150  is:  0.0451795282251 , Accuracy is 0.988095238095\n",
      "The Validation Loss at Iteration  150  is:  0.0509453102043 , Accuracy is 0.990740740741\n",
      "The Training Loss at Iteration  200  is:  0.0181747965591 , Accuracy is 1.0\n",
      "The Validation Loss at Iteration  200  is:  0.0566070949098 , Accuracy is 0.981481481481\n",
      "The Training Loss at Iteration  250  is:  0.0330009657081 , Accuracy is 0.996031746032\n",
      "The Validation Loss at Iteration  250  is:  0.0495823704144 , Accuracy is 0.990740740741\n",
      "The Training Loss at Iteration  300  is:  0.0120609389666 , Accuracy is 1.0\n",
      "The Validation Loss at Iteration  300  is:  0.0517709916711 , Accuracy is 0.990740740741\n",
      "The Training Loss at Iteration  350  is:  0.0560258760021 , Accuracy is 0.988095238095\n",
      "The Validation Loss at Iteration  350  is:  0.0456061103595 , Accuracy is 0.990740740741\n",
      "The Training Loss at Iteration  400  is:  0.0285808314744 , Accuracy is 0.984126984127\n",
      "The Validation Loss at Iteration  400  is:  0.0500276824249 , Accuracy is 0.981481481481\n",
      "The Training Loss at Iteration  450  is:  0.0521006307679 , Accuracy is 0.968253968254\n",
      "The Validation Loss at Iteration  450  is:  0.0462087079062 , Accuracy is 0.990740740741\n"
     ]
    }
   ],
   "source": [
    "network.initialize(input = X_train, y = y_train, batch_size = batch_size)\n",
    "train_loss, train_acc, val_loss, val_acc = network.train(\n",
    "                     num_iter = num_iter, \n",
    "                     learning_rate = learning_rate, \n",
    "                     batch_size = batch_size, \n",
    "                     rand_ = True, \n",
    "                     lambda_ = lambda_,\n",
    "                     optimizer = 'Vanilla',\n",
    "                     Val_X = X_val, \n",
    "                     Val_y = y_val,\n",
    "                     CAL_STEP = 25, \n",
    "                     PRINT_STEP = 50\n",
    "                     )"
   ]
  },
  {
   "cell_type": "markdown",
   "metadata": {},
   "source": [
    "# Result Evaluation"
   ]
  },
  {
   "cell_type": "markdown",
   "metadata": {},
   "source": [
    "## Plot loss and accuracy"
   ]
  },
  {
   "cell_type": "code",
   "execution_count": 29,
   "metadata": {},
   "outputs": [
    {
     "data": {
      "text/plain": [
       "[Text(0,0.5,'Loss')]"
      ]
     },
     "execution_count": 29,
     "metadata": {},
     "output_type": "execute_result"
    },
    {
     "data": {
      "image/png": "[encoded data removed]",
      "text/plain": [
       "<matplotlib.figure.Figure at 0x10d794c50>"
      ]
     },
     "metadata": {},
     "output_type": "display_data"
    }
   ],
   "source": [
    "CAL_STEP = 25\n",
    "\n",
    "import pandas as pd\n",
    "import seaborn as sns\n",
    "import matplotlib.pyplot as plt\n",
    "f, axes = plt.subplots(1, 2, figsize=(14, 5))\n",
    "sns.set_context(\"notebook\", font_scale=1.5, rc={\"lines.linewidth\": 1})\n",
    "\n",
    "df = pd.DataFrame(columns = ['Type','Iteration', 'Value'])\n",
    "Values = train_loss, train_acc, val_loss, val_acc\n",
    "Types = ['Loss', 'Accuracy', 'Loss', 'Accuracy']\n",
    "Splits = ['Train', 'Train', 'Validation', 'Validation']\n",
    "\n",
    "for Value, Type, Split in zip(Values, Types, Splits):\n",
    "    dff = pd.DataFrame({'Type': Type,\n",
    "                        'Split': Split,\n",
    "                        'Iteration': list(range(num_iter))[::CAL_STEP],\n",
    "                        'Value': Value})\n",
    "    df = pd.concat([dff,df])\n",
    "\n",
    "ax = sns.pointplot(x = 'Iteration', y = 'Value', markers='o', data = df[df.Type == 'Accuracy'], hue = 'Split', ax=axes[0])\n",
    "ax.set( ylabel='Accuracy')\n",
    "ax = sns.pointplot(x = 'Iteration', y = 'Value', markers='o', data = df[df.Type == 'Loss'], hue = 'Split', ax=axes[1])\n",
    "ax.set( ylabel='Loss')"
   ]
  },
  {
   "cell_type": "markdown",
   "metadata": {},
   "source": [
    "## Apply Model to Test Dateset"
   ]
  },
  {
   "cell_type": "code",
   "execution_count": 30,
   "metadata": {},
   "outputs": [
    {
     "name": "stdout",
     "output_type": "stream",
     "text": [
      "Accuracy on test dataset is:  0.9778\n"
     ]
    }
   ],
   "source": [
    "acc, loss = network.evaluate(X_test, y_test)\n",
    "print('Accuracy on test dataset is: ', \"%.4f\" %acc)"
   ]
  },
  {
   "cell_type": "markdown",
   "metadata": {},
   "source": [
    "## Visualize Decision Boundary for Simple Example"
   ]
  },
  {
   "cell_type": "code",
   "execution_count": null,
   "metadata": {},
   "outputs": [],
   "source": [
    "from util.plots import plot_decision_boundary\n",
    "%load_ext autoreload\n",
    "%autoreload 2\n",
    "plot_decision_boundary(lambda x: network.predict(x), X, y)\n",
    "plt.title(\"Decision Boundary for hidden layer size 3\")\n",
    "plt.show()"
   ]
  },
  {
   "cell_type": "markdown",
   "metadata": {},
   "source": [
    "## Gradient check"
   ]
  },
  {
   "cell_type": "markdown",
   "metadata": {},
   "source": [
    "The purpose is to confirm that gradient calculation was correct"
   ]
  },
  {
   "cell_type": "code",
   "execution_count": 36,
   "metadata": {},
   "outputs": [
    {
     "name": "stdout",
     "output_type": "stream",
     "text": [
      "The Training Loss at Iteration  0  is:  1.11426502055 , Accuracy is 0.366666666667\n",
      "The Training Loss at Iteration  100  is:  0.0353946108813 , Accuracy is 0.986666666667\n",
      "The Training Loss at Iteration  200  is:  0.0353946108813 , Accuracy is 0.986666666667\n",
      "The Training Loss at Iteration  300  is:  0.0353946108813 , Accuracy is 0.986666666667\n",
      "The Training Loss at Iteration  400  is:  0.0353946108813 , Accuracy is 0.986666666667\n"
     ]
    },
    {
     "data": {
      "text/plain": [
       "([1.114265020553775,\n",
       "  0.035394610881276593,\n",
       "  0.035394610881276593,\n",
       "  0.035394610881276593,\n",
       "  0.035394610881276593],\n",
       " [0.36666666666666664,\n",
       "  0.98666666666666669,\n",
       "  0.98666666666666669,\n",
       "  0.98666666666666669,\n",
       "  0.98666666666666669],\n",
       " [],\n",
       " [])"
      ]
     },
     "execution_count": 36,
     "metadata": {},
     "output_type": "execute_result"
    }
   ],
   "source": [
    "# Re-initialize network, with same X and y, fixed input, no weight update, no regularization\n",
    "network.initialize(input = X, y = y, batch_size = batch_size)\n",
    "network.train(num_iter = 500, learning_rate = 0., batch_size = batch_size, rand_ = False, lambda_ = 0.)"
   ]
  },
  {
   "cell_type": "markdown",
   "metadata": {},
   "source": [
    "Perturbate X[0,0] by +/- 1e5"
   ]
  },
  {
   "cell_type": "code",
   "execution_count": 37,
   "metadata": {},
   "outputs": [],
   "source": [
    "X_plus = X.copy()\n",
    "X_plus[0,0] += 1e-5\n",
    "X_minus = X.copy()\n",
    "X_minus[0,0] -= 1e-5"
   ]
  },
  {
   "cell_type": "markdown",
   "metadata": {},
   "source": [
    "Calculate gradient"
   ]
  },
  {
   "cell_type": "code",
   "execution_count": 38,
   "metadata": {},
   "outputs": [
    {
     "name": "stdout",
     "output_type": "stream",
     "text": [
      "Calculated Gradient:  -0.0325596989995\n"
     ]
    }
   ],
   "source": [
    "_, loss_plus = network.evaluate(X_plus, y)\n",
    "_, loss_minus = network.evaluate(X_minus, y)\n",
    "c_gradient = (loss_plus - loss_minus) / (2e-5) * X.shape[0]\n",
    "print('Calculated Gradient: ', c_gradient)"
   ]
  },
  {
   "cell_type": "code",
   "execution_count": 39,
   "metadata": {},
   "outputs": [
    {
     "name": "stdout",
     "output_type": "stream",
     "text": [
      "Analytical Gradient:  -0.0325596976046\n"
     ]
    }
   ],
   "source": [
    "a_gradient = network.layers[0].dX[0,0]\n",
    "print('Analytical Gradient: ' , a_gradient)"
   ]
  },
  {
   "cell_type": "code",
   "execution_count": 40,
   "metadata": {},
   "outputs": [
    {
     "name": "stdout",
     "output_type": "stream",
     "text": [
      "Relative error:  -4.28410913345e-08\n"
     ]
    }
   ],
   "source": [
    "print('Relative error: ', abs(c_gradient - a_gradient) / max(c_gradient, a_gradient))"
   ]
  },
  {
   "cell_type": "markdown",
   "metadata": {},
   "source": [
    "A better implementation will be checking gradients also at following steps, and for all parameters"
   ]
  },
  {
   "cell_type": "code",
   "execution_count": null,
   "metadata": {},
   "outputs": [],
   "source": []
  },
  {
   "cell_type": "code",
   "execution_count": null,
   "metadata": {},
   "outputs": [],
   "source": []
  }
 ],
 "metadata": {
  "kernelspec": {
   "display_name": "Python [default]",
   "language": "python",
   "name": "python3"
  },
  "language_info": {
   "codemirror_mode": {
    "name": "ipython",
    "version": 3
   },
   "file_extension": ".py",
   "mimetype": "text/x-python",
   "name": "python",
   "nbconvert_exporter": "python",
   "pygments_lexer": "ipython3",
   "version": "3.6.3"
  },
  "toc": {
   "base_numbering": 1,
   "nav_menu": {},
   "number_sections": true,
   "sideBar": true,
   "skip_h1_title": false,
   "title_cell": "Table of Contents",
   "title_sidebar": "Contents",
   "toc_cell": false,
   "toc_position": {
    "height": "calc(100% - 180px)",
    "left": "10px",
    "top": "150px",
    "width": "306px"
   },
   "toc_section_display": true,
   "toc_window_display": true
  }
 },
 "nbformat": 4,
 "nbformat_minor": 2
}
