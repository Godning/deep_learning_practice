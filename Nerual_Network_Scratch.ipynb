{
 "cells": [
  {
   "cell_type": "markdown",
   "metadata": {},
   "source": [
    "# Write Neural Network from Scratch"
   ]
  },
  {
   "cell_type": "markdown",
   "metadata": {},
   "source": [
    "TO DO: \n",
    "- Drop out layer\n",
    "- Parameter Update\n",
    "- Hyperparam optimization"
   ]
  },
  {
   "cell_type": "markdown",
   "metadata": {},
   "source": [
    "# 1. Define Gates (Add, Multiply)"
   ]
  },
  {
   "cell_type": "markdown",
   "metadata": {},
   "source": [
    "## Notations\n",
    "- WX --> **WX** <br/>\n",
    "- WX + b --> **S** <br/>\n",
    "- dL / d(WX) = **dWX ** <br/>\n",
    "- dL / d(S) = **dS** <br/>"
   ]
  },
  {
   "cell_type": "markdown",
   "metadata": {},
   "source": [
    "Math: http://cs231n.github.io/optimization-2/"
   ]
  },
  {
   "cell_type": "code",
   "execution_count": 1,
   "metadata": {
    "collapsed": true
   },
   "outputs": [],
   "source": [
    "class Mul:\n",
    "    def forward(self, W, X):\n",
    "        return np.dot(X, W)\n",
    "    \n",
    "    def backward(self, W, X, dWX):\n",
    "        dW = np.dot( np.transpose(X), dWX )\n",
    "        dX = np.dot( dWX, np.transpose (W))\n",
    "        return dW, dX"
   ]
  },
  {
   "cell_type": "code",
   "execution_count": 2,
   "metadata": {
    "collapsed": true
   },
   "outputs": [],
   "source": [
    "class Add:\n",
    "    def forward(self, WX, b):\n",
    "        return WX + b\n",
    "\n",
    "    def backward(self, WX, b, dS):\n",
    "        dWX = dS * np.ones_like(WX, dtype=np.float64)\n",
    "        db = np.dot(np.ones((1, dS.shape[0]), dtype=np.float64), dS)\n",
    "        return db, dWX"
   ]
  },
  {
   "cell_type": "markdown",
   "metadata": {},
   "source": [
    "# 2. Define Activaton Functions (Sigmoid, Tanh, Softmax)"
   ]
  },
  {
   "cell_type": "markdown",
   "metadata": {},
   "source": [
    "Activation(S)  --> **Z** <br/>\n",
    "Input: \n",
    "dL / d(Z) = **dZ** <br/>\n",
    "Output:\n",
    "dL / d(S) = **dS** <br/>\n",
    "\n"
   ]
  },
  {
   "cell_type": "code",
   "execution_count": 3,
   "metadata": {
    "collapsed": true
   },
   "outputs": [],
   "source": [
    "class Tanh:\n",
    "    def forward(self, S):\n",
    "        Z = np.tanh(S)\n",
    "        return Z\n",
    "    \n",
    "    def backward(self, S, dZ):\n",
    "        Z = self.forward(S)\n",
    "        dS = (1.0 - np.square(Z)) * dZ\n",
    "        return dS"
   ]
  },
  {
   "cell_type": "code",
   "execution_count": 4,
   "metadata": {
    "collapsed": true
   },
   "outputs": [],
   "source": [
    "class Sigmoid:\n",
    "    def forward(self, S):\n",
    "        Z = 1. / (1.0 + np.exp(-S))\n",
    "        return Z\n",
    "    \n",
    "    def backward(self, S, dZ):\n",
    "        Z = self.forward(S)\n",
    "        dS =(1 - Z) * Z * dZ\n",
    "        return dS"
   ]
  },
  {
   "cell_type": "markdown",
   "metadata": {},
   "source": [
    "$\n",
    "\\hat{y_{k}} = softmax(S_1, S_2, ..., S_{k}) \\\\\n",
    "\\mathbf{E} = - \\sum_{i=1}^N y_{ik} log(\\hat{y_{ik}} )\\\\\n",
    "for\\ each\\ sample\\ i: \\\\\n",
    "\\frac{\\partial\\mathbf{E}}{\\partial S_{k}} = {\\hat y}_{k} - y_{k},\\ where\\ y_{k} = 0, 1\\\\\n",
    "$"
   ]
  },
  {
   "cell_type": "code",
   "execution_count": 5,
   "metadata": {
    "collapsed": true
   },
   "outputs": [],
   "source": [
    "class Softmax:\n",
    "    # For Training\n",
    "    def __init__(self):\n",
    "        self.num_examples = 0\n",
    "    \n",
    "    def forward(self, S):\n",
    "        self.num_examples = S.shape[0]\n",
    "        exp_S = np.exp(S)\n",
    "        Z = exp_S / np.sum(exp_S, axis = 1, keepdims = True)\n",
    "        return Z\n",
    "\n",
    "    def backward(self, S, y): # Note: y instead of dZ\n",
    "        probs = Z = self.forward(S)\n",
    "        for i in range(len(y)):\n",
    "            true_label = y[i]\n",
    "            probs[i][true_label] -= 1 # see equation above\n",
    "        dS = probs\n",
    "        return dS\n",
    "    \n",
    "    # For evaluation    \n",
    "    def forward_loss(self, Z, y):\n",
    "        probs = Z\n",
    "        log_probs = []\n",
    "        for prob, true_label in zip(probs, y):\n",
    "            log_probs.append(np.log(prob[true_label]))\n",
    "        avg_cross_entropy_loss = - 1. / self.num_examples * np.sum(log_probs) # see equation above\n",
    "        return avg_cross_entropy_loss\n",
    "    \n",
    "    # For prediction\n",
    "    def predict(self, Z):\n",
    "        return np.argmax(Z, axis = 1)"
   ]
  },
  {
   "cell_type": "markdown",
   "metadata": {},
   "source": [
    "### (Optional) Batch Normalization\n",
    "- **Idea**: Normalize the inputs before activation function for each layer\n",
    "- **Advantages**: Faster training; still allow scale and shift"
   ]
  },
  {
   "cell_type": "markdown",
   "metadata": {},
   "source": [
    "<img src=\"https://kratzert.github.io/images/bn_backpass/bn_algorithm.PNG\" width=\"400\">"
   ]
  },
  {
   "cell_type": "code",
   "execution_count": 6,
   "metadata": {
    "collapsed": true
   },
   "outputs": [],
   "source": [
    "class BatchNorm:\n",
    "    def __init__(self):\n",
    "        self.cache = ()\n",
    "        \n",
    "    def forward(self, X, gamma, beta, eps):\n",
    "        num_examples = X.shape[0]\n",
    "        \n",
    "        mu_B = 1. / num_examples * np.sum(X, axis = 0)\n",
    "        X_mu = X - mu_B\n",
    "        var_B = 1. / num_examples * np.sum(  X_mu ** 2, axis = 0 )\n",
    "        sqrt_var_B = np.sqrt(var_B + eps)\n",
    "        i_sqrt_var_B = 1. / sqrt_var_B\n",
    "        X_hat =  X_mu * i_sqrt_var_B\n",
    "        gammaX = gamma * X_hat\n",
    "        DZ = gammaX + beta\n",
    "        \n",
    "        self.cache = (X_hat, X_mu, gamma, i_sqrt_var_B, sqrt_var_B, var_B, eps)\n",
    "        return DZ\n",
    "    \n",
    "    def backward(self, dDZ):\n",
    "        num_examples = dDZ.shape[0]\n",
    "        X_hat, X_mu, gamma, i_sqrt_var_B, sqrt_var_B, var_B, eps = self.cache\n",
    "        \n",
    "        # scale and shift\n",
    "        dbeta = np.sum(dDZ, axis = 0)\n",
    "        dgammaX = dDZ\n",
    "        dgamma = np.sum(dgammaX * X_hat, axis = 0)\n",
    "        dXhat = dgammaX * gamma\n",
    "        \n",
    "        # Standardize\n",
    "        di_sqrt_var_B = np.sum(dXhat * X_mu, axis = 0)\n",
    "        d_x_mu_2 = dXhat * i_sqrt_var_B\n",
    "        dsqrt_var_B = -1. / (sqrt_var_B ** 2) * di_sqrt_var_B\n",
    "        dvar_B = 0.5 * 1. / np.sqrt(var_B + eps) * dsqrt_var_B\n",
    "\n",
    "        # Batch variance\n",
    "        dsquare = 1. / num_examples * np.ones_like(dDZ) * dvar_B\n",
    "        d_x_mu_1 = 2 * X_mu * dsquare\n",
    "        \n",
    "        # Batch mean\n",
    "        d_x_mu = d_x_mu_2 + d_x_mu_1 # d(f(x)g(x)) = f(x)g'(x) = f'(x)g(x)\n",
    "        dmu = -1. * np.sum(d_x_mu, axis = 0)\n",
    "        dx_2 = d_x_mu\n",
    "        dx_1 = 1. / num_examples * np.ones_like(dDZ) * dmu\n",
    "        dx = dx_2 + dx_1\n",
    "        \n",
    "        return dx, dgamma, dbeta"
   ]
  },
  {
   "cell_type": "code",
   "execution_count": 7,
   "metadata": {},
   "outputs": [
    {
     "name": "stdout",
     "output_type": "stream",
     "text": [
      "Test for 1st input layer: Before normalization: \n"
     ]
    },
    {
     "ename": "NameError",
     "evalue": "name 'np' is not defined",
     "output_type": "error",
     "traceback": [
      "\u001b[0;31m---------------------------------------------------------------------------\u001b[0m",
      "\u001b[0;31mNameError\u001b[0m                                 Traceback (most recent call last)",
      "\u001b[0;32m<ipython-input-7-b8e4b83d2f2d>\u001b[0m in \u001b[0;36m<module>\u001b[0;34m()\u001b[0m\n\u001b[1;32m      1\u001b[0m \u001b[0;31m# Quick test:\u001b[0m\u001b[0;34m\u001b[0m\u001b[0;34m\u001b[0m\u001b[0m\n\u001b[1;32m      2\u001b[0m \u001b[0mprint\u001b[0m\u001b[0;34m(\u001b[0m\u001b[0;34m'Test for 1st input layer: Before normalization: '\u001b[0m\u001b[0;34m)\u001b[0m\u001b[0;34m\u001b[0m\u001b[0m\n\u001b[0;32m----> 3\u001b[0;31m \u001b[0mmeans\u001b[0m \u001b[0;34m=\u001b[0m \u001b[0mnp\u001b[0m\u001b[0;34m.\u001b[0m\u001b[0mmean\u001b[0m\u001b[0;34m(\u001b[0m\u001b[0mnetwork\u001b[0m\u001b[0;34m.\u001b[0m\u001b[0mlayers\u001b[0m\u001b[0;34m[\u001b[0m\u001b[0;36m1\u001b[0m\u001b[0;34m]\u001b[0m\u001b[0;34m.\u001b[0m\u001b[0mS\u001b[0m\u001b[0;34m,\u001b[0m \u001b[0maxis\u001b[0m \u001b[0;34m=\u001b[0m \u001b[0;36m0\u001b[0m\u001b[0;34m)\u001b[0m\u001b[0;34m\u001b[0m\u001b[0m\n\u001b[0m\u001b[1;32m      4\u001b[0m \u001b[0mstds\u001b[0m \u001b[0;34m=\u001b[0m \u001b[0mnp\u001b[0m\u001b[0;34m.\u001b[0m\u001b[0mstd\u001b[0m\u001b[0;34m(\u001b[0m\u001b[0mnetwork\u001b[0m\u001b[0;34m.\u001b[0m\u001b[0mlayers\u001b[0m\u001b[0;34m[\u001b[0m\u001b[0;36m1\u001b[0m\u001b[0;34m]\u001b[0m\u001b[0;34m.\u001b[0m\u001b[0mS\u001b[0m\u001b[0;34m,\u001b[0m \u001b[0maxis\u001b[0m \u001b[0;34m=\u001b[0m \u001b[0;36m0\u001b[0m\u001b[0;34m)\u001b[0m\u001b[0;34m\u001b[0m\u001b[0m\n\u001b[1;32m      5\u001b[0m \u001b[0mprint\u001b[0m\u001b[0;34m(\u001b[0m\u001b[0;34m'Mean/Std: '\u001b[0m\u001b[0;34m,\u001b[0m \u001b[0mmeans\u001b[0m\u001b[0;34m,\u001b[0m \u001b[0mstds\u001b[0m\u001b[0;34m)\u001b[0m\u001b[0;34m\u001b[0m\u001b[0m\n",
      "\u001b[0;31mNameError\u001b[0m: name 'np' is not defined"
     ]
    }
   ],
   "source": [
    "# Quick test:\n",
    "print('Test for 1st input layer: Before normalization: ')\n",
    "means = np.mean(network.layers[1].S, axis = 0)\n",
    "stds = np.std(network.layers[1].S, axis = 0)\n",
    "print('Mean/Std: ', means, stds) \n",
    "print('Test for 1st input layer: After normalization: ')\n",
    "means = np.mean(network.layers[1].SZ, axis = 0)\n",
    "stds = np.std(network.layers[1].SZ, axis = 0)\n",
    "print('Mean/Std: ', means, stds) "
   ]
  },
  {
   "cell_type": "markdown",
   "metadata": {},
   "source": [
    "# 3. Define Layer"
   ]
  },
  {
   "cell_type": "markdown",
   "metadata": {},
   "source": [
    "### Note: Weights initialization\n",
    "- **All zero**: wrong: neuron outputs and gradients would be same; same update\n",
    "- **Number to small**: small gradients for inputs; gradient diminishing for deep NN\n",
    "- **All neuron with same output distribution**: w = np.random.randn(n) / sqrt(n), where n is number of inputs\n",
    "    - It can be proved that Var(S) = Var(WX) = Var(X)"
   ]
  },
  {
   "cell_type": "code",
   "execution_count": 73,
   "metadata": {
    "collapsed": true
   },
   "outputs": [],
   "source": [
    "class Layer:\n",
    "    def __init__(self, activation_function, num_neurons, batch_norm = False):\n",
    "        self.dim = num_neurons\n",
    "        self.activation = activation_function\n",
    "        self.batch_norm = batch_norm\n",
    "        if batch_norm:\n",
    "            self.batchnorm = BatchNorm()\n",
    "        self.isfirst = False\n",
    "        self.islast = False\n",
    "        self.before = None\n",
    "\n",
    "    def set_first_layer(self, input):\n",
    "        self.isfirst = True\n",
    "        self.X = input\n",
    "        \n",
    "    def set_last_layer(self, y):\n",
    "        self.islast = True\n",
    "        self.y = y\n",
    "    \n",
    "    def initialize_Wb(self):\n",
    "        if self.isfirst:\n",
    "            before_dim = self.X.shape[1]\n",
    "        else:\n",
    "            before_dim = self.before.dim\n",
    "        self.W = np.random.randn(before_dim, self.dim) / np.sqrt(before_dim) # see notes above\n",
    "        self.b = np.random.randn(self.dim).reshape(1, self.dim) # see notes above\n",
    "        if(self.batch_norm):\n",
    "            self.gamma, self.beta = (1., 0.)\n",
    "        \n",
    "    def forward_propagation(self):\n",
    "        if not self.isfirst:\n",
    "            self.X = self.before.Z\n",
    "        self.WX = Mul().forward( self.W, self.X )\n",
    "        self.S = Add().forward( self.WX, self.b)\n",
    "        if self.batch_norm:\n",
    "            self.SZ = self.batchnorm.forward( self.S, self.gamma, self.beta, eps = 0)\n",
    "            self.Z = self.activation.forward(self.SZ)\n",
    "        else:\n",
    "            self.Z = self.activation.forward(self.S)\n",
    "            \n",
    "        \n",
    "    def backward_propagation(self):\n",
    "        if self.islast:\n",
    "            self.dS = self.activation.backward(self.S, self.y)\n",
    "        else:\n",
    "            if self.batch_norm:\n",
    "                self.dSZ = self.activation.backward(self.SZ, self.dZ)\n",
    "                self.dS, self.dgamma, self.dbeta = self.batchnorm.backward(self.dSZ)\n",
    "            else:\n",
    "                self.dS = self.activation.backward(self.S, self.dZ)\n",
    "\n",
    "        self.db, self.dWX = Add().backward(self.WX, self.b, self.dS)\n",
    "        self.dW, self.dX = Mul().backward(self.W, self.X, self.dWX)\n",
    "        if not self.isfirst:\n",
    "            self.before.dZ = self.dX\n",
    "\n",
    "    def update_weight(self, learning_rate, lambda_): # see below for other two options besides vanilla update\n",
    "        self.b += -learning_rate * self.db\n",
    "        self.W += -learning_rate * self.dW + (- lambda_ * self.W)\n",
    "        if self.batch_norm:\n",
    "            self.gamma += -learning_rate * self.dgamma\n",
    "            self.beta  += -learning_rate * self.dbeta\n",
    "            \n",
    "    # Only for softmax layer\n",
    "    def calculate_loss(self):\n",
    "        loss = self.activation.forward_loss(self.Z, self.y)\n",
    "        return loss\n",
    "        \n",
    "    def predict(self):\n",
    "        return self.activation.predict(self.Z)"
   ]
  },
  {
   "cell_type": "markdown",
   "metadata": {},
   "source": [
    "http://cs231n.github.io/neural-networks-3/<br/>\n",
    "- Step decay: Reduce the learning rate by some factor every few epochs. Typical values might be reducing the learning rate by a half every 5 epochs, or by 0.1 every 20 epochs. These numbers depend heavily on the type of problem and the model. One heuristic you may see in practice is to watch the validation error while training with a fixed learning rate, and reduce the learning rate by a constant (e.g. 0.5) whenever the validation error stops improving.\n",
    "\n",
    "- Per-parameter adaptive learning rate methods: Adagrad, Adam"
   ]
  },
  {
   "cell_type": "markdown",
   "metadata": {},
   "source": [
    "<img src=\"http://cs231n.github.io/assets/nn3/nesterov.jpeg\" width=\"600\">"
   ]
  },
  {
   "cell_type": "markdown",
   "metadata": {},
   "source": [
    "# 4. Define Network"
   ]
  },
  {
   "cell_type": "code",
   "execution_count": 421,
   "metadata": {},
   "outputs": [],
   "source": [
    "class Network:\n",
    "    def __init__(self):\n",
    "        self.layers = []\n",
    "        self.input = []\n",
    "        self.y = []\n",
    "        \n",
    "    def add(self, new_layer):\n",
    "        if self.layers:\n",
    "            new_layer.before = self.layers[-1]\n",
    "        self.layers.append(new_layer)\n",
    "    \n",
    "    def load_data(self, input, y):\n",
    "        self.layers[0].set_first_layer(input)\n",
    "        self.layers[-1].set_last_layer(y)\n",
    "        \n",
    "    def initialize(self, input, y, batch_size):\n",
    "        self.input = input\n",
    "        self.y = y\n",
    "        self.load_data(input[:batch_size,:], y[:batch_size])\n",
    "        for layer in layers:\n",
    "            layer.initialize_Wb()\n",
    "\n",
    "    def train(self, num_iter, learning_rate, batch_size, rand_, lambda_):\n",
    "        loss_ = []\n",
    "        \n",
    "        for i in range(num_iter):    \n",
    "            # Calculate batch index\n",
    "            if not rand_:\n",
    "                idx = list(range(self.input.shape[0]))\n",
    "            else:\n",
    "                idx = np.random.randint(self.input.shape[0], size = batch_size)\n",
    "            self.load_data(self.input[idx,:], self.y[idx])\n",
    "            \n",
    "            # Forward Propagation\n",
    "            for layer in self.layers:\n",
    "                layer.forward_propagation()\n",
    "                \n",
    "            # Print Loss\n",
    "            if (i % 50 == 0):\n",
    "                loss = layers[-1].calculate_loss()\n",
    "                loss_.append(loss)\n",
    "                print('The loss at iteration ', i, ' is: ' , loss)\n",
    "                \n",
    "            # Backward Propagation\n",
    "            for layer in self.layers[::-1]:\n",
    "                layer.backward_propagation()\n",
    "                layer.update_weight(learning_rate, lambda_ = lambda_ )\n",
    "            \n",
    "        # Finally return loss list\n",
    "        return loss_\n",
    "        \n",
    "    def predict(self, X, return_loss = False):\n",
    "        self.layers[0].set_first_layer(X)\n",
    "        for layer in self.layers:\n",
    "            layer.forward_propagation()\n",
    "        if return_loss:\n",
    "            return layers[-1].predict(), layers[-1].calculate_loss()\n",
    "        else:\n",
    "            return layers[-1].predict()"
   ]
  },
  {
   "cell_type": "markdown",
   "metadata": {
    "collapsed": true
   },
   "source": [
    "<br/>\n",
    "# 5. Generate some dataset"
   ]
  },
  {
   "cell_type": "code",
   "execution_count": 422,
   "metadata": {
    "collapsed": true
   },
   "outputs": [],
   "source": [
    "import sklearn.datasets\n",
    "import matplotlib.pyplot as plt\n",
    "import numpy as np\n",
    "from sklearn.datasets import make_moons\n",
    "%matplotlib inline"
   ]
  },
  {
   "cell_type": "code",
   "execution_count": 423,
   "metadata": {},
   "outputs": [
    {
     "name": "stdout",
     "output_type": "stream",
     "text": [
      "(200, 2) (200,)\n"
     ]
    }
   ],
   "source": [
    "X, y = make_moons(200, noise = 0.1)\n",
    "print(X.shape, y.shape)"
   ]
  },
  {
   "cell_type": "code",
   "execution_count": 424,
   "metadata": {},
   "outputs": [
    {
     "data": {
      "text/plain": [
       "<matplotlib.collections.PathCollection at 0x118e392e8>"
      ]
     },
     "execution_count": 424,
     "metadata": {},
     "output_type": "execute_result"
    },
    {
     "data": {
      "image/png": "[encoded data removed]",
      "text/plain": [
       "<matplotlib.figure.Figure at 0x118d53470>"
      ]
     },
     "metadata": {},
     "output_type": "display_data"
    }
   ],
   "source": [
    "plt.scatter(X[:,0], X[:,1], c = y)"
   ]
  },
  {
   "cell_type": "markdown",
   "metadata": {},
   "source": [
    "# 6. Design Network"
   ]
  },
  {
   "cell_type": "code",
   "execution_count": 425,
   "metadata": {
    "collapsed": true
   },
   "outputs": [],
   "source": [
    "np.random.seed(1)\n",
    "network = Network()\n",
    "layers = []"
   ]
  },
  {
   "cell_type": "code",
   "execution_count": 426,
   "metadata": {
    "collapsed": true
   },
   "outputs": [],
   "source": [
    "layers.append(Layer(activation_function = Tanh(), num_neurons = 5, batch_norm = True))\n",
    "layers.append(Layer(activation_function = Tanh(), num_neurons = 5, batch_norm = True))\n",
    "layers.append(Layer(activation_function = Softmax(), num_neurons = 2))\n",
    "for layer in layers:\n",
    "    network.add(layer)"
   ]
  },
  {
   "cell_type": "markdown",
   "metadata": {},
   "source": [
    "<br/>\n",
    "# 7. Train network"
   ]
  },
  {
   "cell_type": "markdown",
   "metadata": {},
   "source": [
    "### Training Parameters"
   ]
  },
  {
   "cell_type": "code",
   "execution_count": 427,
   "metadata": {
    "collapsed": true
   },
   "outputs": [],
   "source": [
    "batch_size = 200 # Batch size for gradient update \n",
    "num_iter = 1000 # Number of iterations\n",
    "learning_rate = 0.02 # Learning Rate\n",
    "lambda_ = 0.011 # Regularization parameter"
   ]
  },
  {
   "cell_type": "markdown",
   "metadata": {},
   "source": [
    "### Initialize and Train"
   ]
  },
  {
   "cell_type": "code",
   "execution_count": 433,
   "metadata": {},
   "outputs": [
    {
     "name": "stdout",
     "output_type": "stream",
     "text": [
      "The loss at iteration  0  is:  0.885347271145\n",
      "The loss at iteration  50  is:  0.0109931034539\n",
      "The loss at iteration  100  is:  0.00325527541215\n",
      "The loss at iteration  150  is:  0.00146149111478\n",
      "The loss at iteration  200  is:  0.000855968354041\n",
      "The loss at iteration  250  is:  0.0006129027396\n",
      "The loss at iteration  300  is:  0.000480197783225\n",
      "The loss at iteration  350  is:  0.000395867803711\n",
      "The loss at iteration  400  is:  0.000337282294977\n",
      "The loss at iteration  450  is:  0.000294102718439\n",
      "The loss at iteration  500  is:  0.000260903941595\n",
      "The loss at iteration  550  is:  0.000234554460016\n",
      "The loss at iteration  600  is:  0.000213115681825\n",
      "The loss at iteration  650  is:  0.00019532124481\n",
      "The loss at iteration  700  is:  0.000180307865664\n",
      "The loss at iteration  750  is:  0.000167466246543\n",
      "The loss at iteration  800  is:  0.000156353764073\n",
      "The loss at iteration  850  is:  0.000146640945193\n",
      "The loss at iteration  900  is:  0.000138077372272\n",
      "The loss at iteration  950  is:  0.00013046924378\n"
     ]
    }
   ],
   "source": [
    "network.initialize(input = X, y = y, batch_size = batch_size)\n",
    "loss = network.train(num_iter = num_iter, learning_rate = learning_rate, batch_size = batch_size, rand_ = False, lambda_ = 0)"
   ]
  },
  {
   "cell_type": "code",
   "execution_count": 450,
   "metadata": {},
   "outputs": [
    {
     "name": "stderr",
     "output_type": "stream",
     "text": [
      "/Users/shiwang/anaconda3/lib/python3.6/site-packages/seaborn/timeseries.py:183: UserWarning: The tsplot function is deprecated and will be removed or replaced (in a substantially altered version) in a future release.\n",
      "  warnings.warn(msg, UserWarning)\n"
     ]
    },
    {
     "data": {
      "text/plain": [
       "<matplotlib.axes._subplots.AxesSubplot at 0x1a1ea85400>"
      ]
     },
     "execution_count": 450,
     "metadata": {},
     "output_type": "execute_result"
    },
    {
     "data": {
      "image/png": "[encoded data removed]",
      "text/plain": [
       "<matplotlib.figure.Figure at 0x1a1e5155f8>"
      ]
     },
     "metadata": {},
     "output_type": "display_data"
    }
   ],
   "source": [
    "#https://seaborn.pydata.org/generated/seaborn.tsplot.html\n",
    "import seaborn as sns\n",
    "sns.set_context(\"notebook\", font_scale=1.5, rc={\"lines.linewidth\": 1})\n",
    "iters = list(map(lambda x: x*50,list(range(len(loss)))))\n",
    "sns.tsplot(loss, iters, err_style = 'unit_points')"
   ]
  },
  {
   "cell_type": "markdown",
   "metadata": {},
   "source": [
    "# 8. Result Evaluation"
   ]
  },
  {
   "cell_type": "markdown",
   "metadata": {},
   "source": [
    "## 8.1 Gradient check"
   ]
  },
  {
   "cell_type": "markdown",
   "metadata": {},
   "source": [
    "The purpose is to confirm that gradient calculation was correct"
   ]
  },
  {
   "cell_type": "code",
   "execution_count": 392,
   "metadata": {},
   "outputs": [
    {
     "name": "stdout",
     "output_type": "stream",
     "text": [
      "The loss at iteration  0  is:  0.877252229499\n",
      "The loss at iteration  50  is:  0.877252229499\n"
     ]
    }
   ],
   "source": [
    "# Re-initialize network, with same X and y, fixed input, no weight update, no regularization\n",
    "network.initialize(input = X, y = y, batch_size = batch_size)\n",
    "network.train(num_iter = 100, learning_rate = 0, batch_size = batch_size, rand_ = False, lambda_ = 0)"
   ]
  },
  {
   "cell_type": "markdown",
   "metadata": {},
   "source": [
    "Perturbate X[0,0] by +- 1e5"
   ]
  },
  {
   "cell_type": "code",
   "execution_count": 393,
   "metadata": {
    "collapsed": true
   },
   "outputs": [],
   "source": [
    "X_plus = X.copy()\n",
    "X_plus[0,0] += 1e-5\n",
    "X_minus = X.copy()\n",
    "X_minus[0,0] -= 1e-5"
   ]
  },
  {
   "cell_type": "markdown",
   "metadata": {},
   "source": [
    "Calculate gradient"
   ]
  },
  {
   "cell_type": "code",
   "execution_count": 396,
   "metadata": {},
   "outputs": [
    {
     "name": "stdout",
     "output_type": "stream",
     "text": [
      "Calculated Gradient:  -0.318886171913\n"
     ]
    }
   ],
   "source": [
    "_, loss_plus = network.predict(X_plus, return_loss = True)\n",
    "_, loss_minus = network.predict(X_minus, return_loss = True)\n",
    "c_gradient = (loss_plus - loss_minus) / (2e-5) * X.shape[0]\n",
    "print('Calculated Gradient: ', c_gradient)"
   ]
  },
  {
   "cell_type": "code",
   "execution_count": 398,
   "metadata": {},
   "outputs": [
    {
     "name": "stdout",
     "output_type": "stream",
     "text": [
      "Analytical Gradient:  -0.318886172791\n"
     ]
    }
   ],
   "source": [
    "a_gradient = network.layers[0].dX[0,0]\n",
    "print('Analytical Gradient: ' , a_gradient)"
   ]
  },
  {
   "cell_type": "code",
   "execution_count": 399,
   "metadata": {},
   "outputs": [
    {
     "name": "stdout",
     "output_type": "stream",
     "text": [
      "Relative error:  -2.7549058571e-09\n"
     ]
    }
   ],
   "source": [
    "print('Relative error: ', abs(c_gradient - a_gradient) / max(c_gradient, a_gradient))"
   ]
  },
  {
   "cell_type": "markdown",
   "metadata": {},
   "source": [
    "A better implementation will be checking gradients also at following steps, and for all parameters"
   ]
  },
  {
   "cell_type": "markdown",
   "metadata": {},
   "source": [
    "## 8.2 Visualize Decisoon Boundary"
   ]
  },
  {
   "cell_type": "code",
   "execution_count": 234,
   "metadata": {},
   "outputs": [
    {
     "data": {
      "image/png": "[encoded data removed]",
      "text/plain": [
       "<matplotlib.figure.Figure at 0x1a1b038208>"
      ]
     },
     "metadata": {},
     "output_type": "display_data"
    }
   ],
   "source": [
    "import util.plots\n",
    "%load_ext autoreload\n",
    "%autoreload 2\n",
    "plot_decision_boundary(lambda x: network.predict(x), X, y)\n",
    "plt.title(\"Decision Boundary for hidden layer size 3\")\n",
    "plt.show()"
   ]
  },
  {
   "cell_type": "code",
   "execution_count": null,
   "metadata": {
    "collapsed": true
   },
   "outputs": [],
   "source": []
  }
 ],
 "metadata": {
  "kernelspec": {
   "display_name": "Python [default]",
   "language": "python",
   "name": "python3"
  },
  "language_info": {
   "codemirror_mode": {
    "name": "ipython",
    "version": 3
   },
   "file_extension": ".py",
   "mimetype": "text/x-python",
   "name": "python",
   "nbconvert_exporter": "python",
   "pygments_lexer": "ipython3",
   "version": "3.6.3"
  }
 },
 "nbformat": 4,
 "nbformat_minor": 2
}
