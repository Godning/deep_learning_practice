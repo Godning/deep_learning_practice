{
 "cells": [
  {
   "cell_type": "code",
   "execution_count": 1,
   "metadata": {
    "collapsed": true
   },
   "outputs": [],
   "source": [
    "import tensorflow as tf\n",
    "import numpy as np\n",
    "from random import shuffle\n",
    "from tensorflow.contrib import rnn\n",
    "tf.logging.set_verbosity(tf.logging.INFO)\n",
    "tf.reset_default_graph()\n",
    "from IPython.core.display import Image, display\n",
    "from collections import deque\n",
    "import gym\n",
    "import random"
   ]
  },
  {
   "cell_type": "markdown",
   "metadata": {},
   "source": [
    "# 1. Q Learning based on Q-table"
   ]
  },
  {
   "cell_type": "markdown",
   "metadata": {},
   "source": [
    "### initialize"
   ]
  },
  {
   "cell_type": "code",
   "execution_count": 2,
   "metadata": {
    "collapsed": true
   },
   "outputs": [],
   "source": [
    "from gym.envs.registration import register\n",
    "register(\n",
    "    id='FrozenLakeNotSlippery-v0',\n",
    "    entry_point='gym.envs.toy_text:FrozenLakeEnv',\n",
    "    kwargs={'map_name' : '4x4', 'is_slippery': False}, # for testing purpose, set it to be deterministic\n",
    "    max_episode_steps=100,\n",
    "    reward_threshold=0.78, # optimum = .8196\n",
    ")"
   ]
  },
  {
   "cell_type": "code",
   "execution_count": 3,
   "metadata": {
    "collapsed": true
   },
   "outputs": [],
   "source": [
    "env = gym.make('FrozenLakeNotSlippery-v0')\n",
    "action_size = env.action_space.n\n",
    "state_size = env.observation_space.n"
   ]
  },
  {
   "cell_type": "code",
   "execution_count": 4,
   "metadata": {},
   "outputs": [
    {
     "name": "stdout",
     "output_type": "stream",
     "text": [
      "Action size is: 4\n",
      "State size is: 16\n"
     ]
    }
   ],
   "source": [
    "print('Action size is: ' + str(action_size))\n",
    "print('State size is: ' + str(state_size))"
   ]
  },
  {
   "cell_type": "code",
   "execution_count": 5,
   "metadata": {},
   "outputs": [
    {
     "name": "stdout",
     "output_type": "stream",
     "text": [
      "[[ 0.  0.  0.  0.]\n",
      " [ 0.  0.  0.  0.]\n",
      " [ 0.  0.  0.  0.]\n",
      " [ 0.  0.  0.  0.]\n",
      " [ 0.  0.  0.  0.]\n",
      " [ 0.  0.  0.  0.]\n",
      " [ 0.  0.  0.  0.]\n",
      " [ 0.  0.  0.  0.]\n",
      " [ 0.  0.  0.  0.]\n",
      " [ 0.  0.  0.  0.]\n",
      " [ 0.  0.  0.  0.]\n",
      " [ 0.  0.  0.  0.]\n",
      " [ 0.  0.  0.  0.]\n",
      " [ 0.  0.  0.  0.]\n",
      " [ 0.  0.  0.  0.]\n",
      " [ 0.  0.  0.  0.]]\n"
     ]
    }
   ],
   "source": [
    "qtable = np.zeros((state_size, action_size))\n",
    "print(qtable)"
   ]
  },
  {
   "cell_type": "markdown",
   "metadata": {},
   "source": [
    "### params"
   ]
  },
  {
   "cell_type": "code",
   "execution_count": 12,
   "metadata": {
    "collapsed": true
   },
   "outputs": [],
   "source": [
    "total_episodes = 50000        # Total episodes\n",
    "learning_rate = 0.8           # Learning rate\n",
    "max_steps = 99                # Max steps per episode\n",
    "gamma = 0.95                  # Discounting rate\n",
    "\n",
    "# Exploration parameters\n",
    "epsilon = 1.0                 # Exploration rate\n",
    "max_epsilon = 1.0             # Exploration probability at start\n",
    "min_epsilon = 0.01            # Minimum exploration probability \n",
    "decay_rate = 0.01             # Exponential decay rate for exploration prob"
   ]
  },
  {
   "cell_type": "markdown",
   "metadata": {},
   "source": [
    "### Use Q Table Algorithm"
   ]
  },
  {
   "cell_type": "code",
   "execution_count": 13,
   "metadata": {},
   "outputs": [
    {
     "name": "stdout",
     "output_type": "stream",
     "text": [
      "[[ 0.73509189  0.77378094  0.6983373   0.73509189]\n",
      " [ 0.73509189  0.          0.          0.55866984]\n",
      " [ 0.6983373   0.          0.          0.        ]\n",
      " [ 0.          0.          0.          0.        ]\n",
      " [ 0.77378094  0.81450625  0.          0.73509189]\n",
      " [ 0.          0.          0.          0.        ]\n",
      " [ 0.          0.          0.          0.66342043]\n",
      " [ 0.          0.          0.          0.        ]\n",
      " [ 0.81450625  0.          0.857375    0.77378094]\n",
      " [ 0.81450625  0.9025      0.9025      0.        ]\n",
      " [ 0.857375    0.95        0.          0.63024941]\n",
      " [ 0.          0.          0.          0.        ]\n",
      " [ 0.          0.          0.          0.        ]\n",
      " [ 0.          0.9025      0.95        0.857375  ]\n",
      " [ 0.9025      0.95        1.          0.9025    ]\n",
      " [ 0.          0.          0.          0.        ]]\n"
     ]
    }
   ],
   "source": [
    "rewards = []\n",
    "\n",
    "for episode in range(total_episodes):\n",
    "    \n",
    "    # reset evn\n",
    "    state = env.reset() # set state --> 0, state from {0,1,2,...,15} \n",
    "    step = 0\n",
    "    done = False\n",
    "    rewards_episode = 0\n",
    "    \n",
    "    # start this episode\n",
    "    for step in range(max_steps):\n",
    "        \n",
    "        # decide action\n",
    "        random_0_1 = random.uniform(0, 1)\n",
    "        if random_0_1 > epsilon: # exploitation\n",
    "            action = np.argmax(qtable[state,:]) # select max q action given state\n",
    "            \n",
    "        else: # exploration\n",
    "            action = env.action_space.sample() # action sampled from {0,1,2,3}\n",
    "            #LEFT = 0, DOWN = 1, RIGHT = 2, UP = 3\n",
    "        \n",
    "        # implement action\n",
    "        new_state, reward, done, info = env.step(action) # reward from {0,1}, done from {True, False}\n",
    "        \n",
    "        # update q table\n",
    "        qtable[state, action] = qtable[state, action] + \\\n",
    "            learning_rate * (reward + gamma * np.max(qtable[new_state, :]) - qtable[state, action])\n",
    "            \n",
    "        # update reward and state\n",
    "        rewards_episode += reward\n",
    "        state = new_state\n",
    "\n",
    "        # Do not continue if done\n",
    "        if done == True: \n",
    "            break\n",
    "            \n",
    "    # After finishing one episode\n",
    "    episode += 1\n",
    "    \n",
    "    # Reduce epsilon (because we need less and less exploration)\n",
    "    epsilon = min_epsilon + (max_epsilon - min_epsilon)*np.exp(-decay_rate*episode) \n",
    "    rewards.append(rewards_episode)\n",
    "\n",
    "print(qtable)"
   ]
  },
  {
   "cell_type": "code",
   "execution_count": 26,
   "metadata": {},
   "outputs": [
    {
     "data": {
      "image/jpeg": "[encoded data removed]",
      "text/plain": [
       "<IPython.core.display.Image object>"
      ]
     },
     "metadata": {
      "image/jpeg": {
       "unconfined": true,
       "width": 500
      }
     },
     "output_type": "display_data"
    }
   ],
   "source": [
    "# Formula\n",
    "display(Image('https://randomant.net/images/algorithm-behind-curtain-2/q_learning_algorithm.jpg', width=500, unconfined=True))"
   ]
  },
  {
   "cell_type": "markdown",
   "metadata": {},
   "source": [
    "### Run the game"
   ]
  },
  {
   "cell_type": "code",
   "execution_count": 15,
   "metadata": {},
   "outputs": [
    {
     "name": "stdout",
     "output_type": "stream",
     "text": [
      "****************************************************\n",
      "EPISODE  0\n",
      "\n",
      "\u001b[41mS\u001b[0mFFF\n",
      "FHFH\n",
      "FFFH\n",
      "HFFG\n",
      "  (Down)\n",
      "SFFF\n",
      "\u001b[41mF\u001b[0mHFH\n",
      "FFFH\n",
      "HFFG\n",
      "  (Down)\n",
      "SFFF\n",
      "FHFH\n",
      "\u001b[41mF\u001b[0mFFH\n",
      "HFFG\n",
      "  (Right)\n",
      "SFFF\n",
      "FHFH\n",
      "F\u001b[41mF\u001b[0mFH\n",
      "HFFG\n",
      "  (Down)\n",
      "SFFF\n",
      "FHFH\n",
      "FFFH\n",
      "H\u001b[41mF\u001b[0mFG\n",
      "  (Right)\n",
      "SFFF\n",
      "FHFH\n",
      "FFFH\n",
      "HF\u001b[41mF\u001b[0mG\n",
      "****************************************************\n",
      "EPISODE  1\n",
      "\n",
      "\u001b[41mS\u001b[0mFFF\n",
      "FHFH\n",
      "FFFH\n",
      "HFFG\n",
      "  (Down)\n",
      "SFFF\n",
      "\u001b[41mF\u001b[0mHFH\n",
      "FFFH\n",
      "HFFG\n",
      "  (Down)\n",
      "SFFF\n",
      "FHFH\n",
      "\u001b[41mF\u001b[0mFFH\n",
      "HFFG\n",
      "  (Right)\n",
      "SFFF\n",
      "FHFH\n",
      "F\u001b[41mF\u001b[0mFH\n",
      "HFFG\n",
      "  (Down)\n",
      "SFFF\n",
      "FHFH\n",
      "FFFH\n",
      "H\u001b[41mF\u001b[0mFG\n",
      "  (Right)\n",
      "SFFF\n",
      "FHFH\n",
      "FFFH\n",
      "HF\u001b[41mF\u001b[0mG\n",
      "****************************************************\n",
      "EPISODE  2\n",
      "\n",
      "\u001b[41mS\u001b[0mFFF\n",
      "FHFH\n",
      "FFFH\n",
      "HFFG\n",
      "  (Down)\n",
      "SFFF\n",
      "\u001b[41mF\u001b[0mHFH\n",
      "FFFH\n",
      "HFFG\n",
      "  (Down)\n",
      "SFFF\n",
      "FHFH\n",
      "\u001b[41mF\u001b[0mFFH\n",
      "HFFG\n",
      "  (Right)\n",
      "SFFF\n",
      "FHFH\n",
      "F\u001b[41mF\u001b[0mFH\n",
      "HFFG\n",
      "  (Down)\n",
      "SFFF\n",
      "FHFH\n",
      "FFFH\n",
      "H\u001b[41mF\u001b[0mFG\n",
      "  (Right)\n",
      "SFFF\n",
      "FHFH\n",
      "FFFH\n",
      "HF\u001b[41mF\u001b[0mG\n",
      "****************************************************\n",
      "EPISODE  3\n",
      "\n",
      "\u001b[41mS\u001b[0mFFF\n",
      "FHFH\n",
      "FFFH\n",
      "HFFG\n",
      "  (Down)\n",
      "SFFF\n",
      "\u001b[41mF\u001b[0mHFH\n",
      "FFFH\n",
      "HFFG\n",
      "  (Down)\n",
      "SFFF\n",
      "FHFH\n",
      "\u001b[41mF\u001b[0mFFH\n",
      "HFFG\n",
      "  (Right)\n",
      "SFFF\n",
      "FHFH\n",
      "F\u001b[41mF\u001b[0mFH\n",
      "HFFG\n",
      "  (Down)\n",
      "SFFF\n",
      "FHFH\n",
      "FFFH\n",
      "H\u001b[41mF\u001b[0mFG\n",
      "  (Right)\n",
      "SFFF\n",
      "FHFH\n",
      "FFFH\n",
      "HF\u001b[41mF\u001b[0mG\n",
      "****************************************************\n",
      "EPISODE  4\n",
      "\n",
      "\u001b[41mS\u001b[0mFFF\n",
      "FHFH\n",
      "FFFH\n",
      "HFFG\n",
      "  (Down)\n",
      "SFFF\n",
      "\u001b[41mF\u001b[0mHFH\n",
      "FFFH\n",
      "HFFG\n",
      "  (Down)\n",
      "SFFF\n",
      "FHFH\n",
      "\u001b[41mF\u001b[0mFFH\n",
      "HFFG\n",
      "  (Right)\n",
      "SFFF\n",
      "FHFH\n",
      "F\u001b[41mF\u001b[0mFH\n",
      "HFFG\n",
      "  (Down)\n",
      "SFFF\n",
      "FHFH\n",
      "FFFH\n",
      "H\u001b[41mF\u001b[0mFG\n",
      "  (Right)\n",
      "SFFF\n",
      "FHFH\n",
      "FFFH\n",
      "HF\u001b[41mF\u001b[0mG\n"
     ]
    }
   ],
   "source": [
    "env.reset()\n",
    "rewards = []\n",
    "\n",
    "for episode in range(5):\n",
    "    \n",
    "    state = env.reset()\n",
    "    step = 0\n",
    "    done = False\n",
    "    print(\"****************************************************\")\n",
    "    print(\"EPISODE \", episode)\n",
    "\n",
    "    for step in range(max_steps):\n",
    "       \n",
    "        env.render()\n",
    "        action = np.argmax(qtable[state,:])\n",
    "        new_state, reward, done, info = env.step(action)\n",
    "        \n",
    "        if done:\n",
    "            break\n",
    "        state = new_state\n",
    "        \n",
    "env.close()"
   ]
  },
  {
   "cell_type": "markdown",
   "metadata": {},
   "source": [
    "## 2. Q Learning based on deep learning NN"
   ]
  },
  {
   "cell_type": "markdown",
   "metadata": {},
   "source": [
    "### initialize env"
   ]
  },
  {
   "cell_type": "code",
   "execution_count": 41,
   "metadata": {},
   "outputs": [
    {
     "data": {
      "text/plain": [
       "(210, 160, 3)"
      ]
     },
     "execution_count": 41,
     "metadata": {},
     "output_type": "execute_result"
    }
   ],
   "source": [
    "env = gym.make('Pong-v0')\n",
    "observation = env.reset()\n",
    "observation.shape"
   ]
  },
  {
   "cell_type": "markdown",
   "metadata": {},
   "source": [
    "### preprocess to reduce space\n",
    "https://github.com/dhruvp/atari-pong/blob/master/me_pong.py"
   ]
  },
  {
   "cell_type": "code",
   "execution_count": 47,
   "metadata": {},
   "outputs": [],
   "source": [
    "def downsample(image):\n",
    "    # Take only alternate pixels - basically halves the resolution of the image (which is fine for us)\n",
    "    return image[::2, ::2, :]\n",
    "\n",
    "def remove_color(image):\n",
    "    \"\"\"Convert all color (RGB is the third dimension in the image)\"\"\"\n",
    "    return image[:, :, 0]\n",
    "\n",
    "def remove_background(image):\n",
    "    image[image == 144] = 0\n",
    "    image[image == 109] = 0\n",
    "    return image\n",
    "\n",
    "def preprocess_state(input_observation):\n",
    "    \"\"\" convert the 210x160x3 uint8 frame into a 6400 float vector \"\"\"\n",
    "    processed_observation = input_observation[35:195] # crop\n",
    "    processed_observation = downsample(processed_observation)\n",
    "    processed_observation = remove_color(processed_observation)\n",
    "    processed_observation = remove_background(processed_observation)\n",
    "    processed_observation[processed_observation != 0] = 1 # everything else (paddles, ball) just set to 1\n",
    "    \n",
    "    # Convert from 80 x 80 matrix to 1600 x 1 matrix\n",
    "    processed_observation = processed_observation.astype(np.float32).ravel()\n",
    "    return processed_observation"
   ]
  },
  {
   "cell_type": "code",
   "execution_count": 48,
   "metadata": {},
   "outputs": [
    {
     "data": {
      "text/plain": [
       "(6400,)"
      ]
     },
     "execution_count": 48,
     "metadata": {},
     "output_type": "execute_result"
    }
   ],
   "source": [
    "preprocess_state(observation).shape"
   ]
  },
  {
   "cell_type": "markdown",
   "metadata": {},
   "source": [
    "### hyperparams"
   ]
  },
  {
   "cell_type": "code",
   "execution_count": 64,
   "metadata": {},
   "outputs": [],
   "source": [
    "# Basic\n",
    "total_episodes = 5        # Total episodes\n",
    "learning_rate = 0.8           # Learning rate\n",
    "max_steps = 99                # Max steps per episode\n",
    "gamma = 0.95                  # Discounting rate\n",
    "\n",
    "# Exploration parameters for epsilon greedy strategy\n",
    "explore_start = 1.0            # exploration probability at start\n",
    "explore_stop = 0.01            # minimum exploration probability \n",
    "decay_rate = 0.0001            # exponential decay rate for exploration prob\n",
    "\n",
    "# Memory\n",
    "memory_size = 50000\n",
    "batch_size = 64\n",
    "pretrain_length = batch_size\n",
    "possible_actions = [2,3]"
   ]
  },
  {
   "cell_type": "markdown",
   "metadata": {},
   "source": [
    "### define memory\n",
    "https://medium.freecodecamp.org/an-introduction-to-deep-q-learning-lets-play-doom-54d02d8017d8"
   ]
  },
  {
   "cell_type": "code",
   "execution_count": 32,
   "metadata": {
    "collapsed": true
   },
   "outputs": [],
   "source": [
    "class Memory():\n",
    "    def __init__(self, max_size):\n",
    "        self.buffer = deque(maxlen = max_size)\n",
    "    \n",
    "    def add(self, experience):\n",
    "        self.buffer.append(experience)\n",
    "    \n",
    "    def sample(self, batch_size):\n",
    "        buffer_size = len(self.buffer)\n",
    "        index = np.random.choice(np.arange(buffer_size),\n",
    "                                size = batch_size,\n",
    "                                replace = False)\n",
    "        \n",
    "        return [self.buffer[i] for i in index]"
   ]
  },
  {
   "cell_type": "code",
   "execution_count": 55,
   "metadata": {},
   "outputs": [],
   "source": [
    "# Render the environment\n",
    "init_state = env.reset()\n",
    "\n",
    "# Instantiate memory\n",
    "memory = Memory(max_size = memory_size)\n",
    "\n",
    "for i in range(pretrain_length):\n",
    "    if i == 0:\n",
    "        state = init_state\n",
    "        \n",
    "    # Random action\n",
    "    action = random.choice(possible_actions)\n",
    "    next_state, reward, done, info = env.step(action)\n",
    "    \n",
    "    if done:\n",
    "        next_state = np.zeros(state.shape)\n",
    "    else:\n",
    "        next_state = next_state\n",
    "        \n",
    "    memory.add((preprocess_state(state), action, reward, preprocess_state(next_state), done))\n",
    "    \n",
    "    if done:\n",
    "        state = env.reset()\n",
    "    else:\n",
    "        state = next_state"
   ]
  },
  {
   "cell_type": "code",
   "execution_count": 56,
   "metadata": {},
   "outputs": [
    {
     "data": {
      "text/plain": [
       "[(array([ 0.,  0.,  0., ...,  0.,  0.,  0.]),\n",
       "  3,\n",
       "  0.0,\n",
       "  array([ 0.,  0.,  0., ...,  0.,  0.,  0.]),\n",
       "  False)]"
      ]
     },
     "execution_count": 56,
     "metadata": {},
     "output_type": "execute_result"
    }
   ],
   "source": [
    "memory.sample(1)"
   ]
  },
  {
   "cell_type": "markdown",
   "metadata": {},
   "source": [
    "### define NN (for now, simplest 1-hidden layer NN)"
   ]
  },
  {
   "cell_type": "code",
   "execution_count": 105,
   "metadata": {
    "collapsed": true
   },
   "outputs": [],
   "source": [
    "def Q_learning_NN(features, labels, mode):\n",
    "    \n",
    "    # Read action\n",
    "    actions = features['actions']\n",
    "    \n",
    "    # input state\n",
    "    input_layer = features['states']\n",
    "    input_layer = tf.layers.flatten(input_layer) # - 6400\n",
    "    \n",
    "    # hidden layer\n",
    "    num_hidden_units = 200\n",
    "    hidden = tf.layers.dense(inputs = input_layer , \n",
    "                            units = num_hidden_units,\n",
    "                            activation = tf.nn.relu)\n",
    "\n",
    "    # FC layer (dense layer)\n",
    "    logits = tf.layers.dense(inputs = hidden, units = 2)# move up or down\n",
    "    \n",
    "    Final_EstimatorSpec = GenerateEstimatorSpec_Q(logits, labels, mode, actions)\n",
    "    return(Final_EstimatorSpec)"
   ]
  },
  {
   "cell_type": "code",
   "execution_count": 114,
   "metadata": {
    "collapsed": true
   },
   "outputs": [],
   "source": [
    "def GenerateEstimatorSpec_Q(logits, targets, mode, actions):\n",
    "    # Generate Predictions\n",
    "    predictions = {\n",
    "      \"best_action_index\":  tf.argmax(input = logits, axis=1),\n",
    "      \"predicted_maxQ\": tf.reduce_max(logits)\n",
    "    }\n",
    "    \n",
    "    # If during PREDICTION mode, just return the predictions\n",
    "    if mode == tf.estimator.ModeKeys.PREDICT:\n",
    "        return tf.estimator.EstimatorSpec(mode = mode, \n",
    "                                          predictions = predictions)\n",
    "    \n",
    "    # If during TRAIN, calculate squared loss\n",
    "    predicted_Qs = tf.reduce_sum(tf.multiply(logits, actions), axis=1) # e.g., [q1, q2] * [1.0, 0.0] for 1st action\n",
    "    loss = tf.reduce_mean(tf.square(targets - predicted_Qs))\n",
    "\n",
    "    # If during TRAIN, update gradients\n",
    "    if mode == tf.estimator.ModeKeys.TRAIN:\n",
    "        optimizer = tf.train.GradientDescentOptimizer(learning_rate = 0.001)\n",
    "        train_op = optimizer.minimize(\n",
    "            loss = loss,\n",
    "            global_step = tf.train.get_global_step())\n",
    "        return tf.estimator.EstimatorSpec(mode = mode, \n",
    "                                          loss = loss, \n",
    "                                          train_op = train_op)"
   ]
  },
  {
   "cell_type": "markdown",
   "metadata": {},
   "source": [
    "![image](https://cdn-images-1.medium.com/max/1760/1*ZqML2CCqo455qkxlxJTT2Q.png)"
   ]
  },
  {
   "cell_type": "code",
   "execution_count": 115,
   "metadata": {},
   "outputs": [
    {
     "name": "stdout",
     "output_type": "stream",
     "text": [
      "INFO:tensorflow:Using default config.\n",
      "INFO:tensorflow:Using config: {'_model_dir': './model_files_3', '_tf_random_seed': None, '_save_summary_steps': 100, '_save_checkpoints_steps': None, '_save_checkpoints_secs': 600, '_session_config': None, '_keep_checkpoint_max': 5, '_keep_checkpoint_every_n_hours': 10000, '_log_step_count_steps': 100, '_service': None, '_cluster_spec': <tensorflow.python.training.server_lib.ClusterSpec object at 0x1c1fb6d940>, '_task_type': 'worker', '_task_id': 0, '_master': '', '_is_chief': True, '_num_ps_replicas': 0, '_num_worker_replicas': 1}\n"
     ]
    }
   ],
   "source": [
    "Q_classifier = tf.estimator.Estimator(\n",
    "    model_fn = Q_learning_NN, # model function type, \n",
    "    model_dir = \"./model_files_3\",\n",
    "    params = None)"
   ]
  },
  {
   "cell_type": "code",
   "execution_count": 116,
   "metadata": {},
   "outputs": [],
   "source": [
    "def get_prediction(state, Q_classifier):\n",
    "    pred_input_fn = tf.estimator.inputs.numpy_input_fn(\n",
    "        x = {\"x\": state}, #features \n",
    "        y = None,\n",
    "        shuffle = False)\n",
    "    \n",
    "    best_action_index = []\n",
    "    predicted_maxQ = []\n",
    "    \n",
    "    pred_results = Q_classifier.predict(input_fn = pred_input_fn)\n",
    "    for pred in pred_results:\n",
    "        best_action_index.append(pred['best_action_index'])\n",
    "        predicted_maxQ.append(pred['predicted_maxQ'])\n",
    "    \n",
    "    return {'best_action_index': best_action_index, \n",
    "            'predicted_maxQ': predicted_maxQ}"
   ]
  },
  {
   "cell_type": "code",
   "execution_count": 94,
   "metadata": {
    "collapsed": true
   },
   "outputs": [],
   "source": [
    "            next_state = next_state\n",
    "            memory.add((preprocess_state(state), action, reward, preprocess_state(next_state), done))\n",
    "            state = next_state          "
   ]
  },
  {
   "cell_type": "code",
   "execution_count": null,
   "metadata": {},
   "outputs": [],
   "source": [
    "decay_step = 0 # explore/exploit trade-off\n",
    "\n",
    "for episode in range(total_episodes):\n",
    "    \n",
    "    # initialize game\n",
    "    state = env.reset()\n",
    "    step = 0\n",
    "    done = False\n",
    "    reward = 0\n",
    "        \n",
    "    print(\"****************************************************\")\n",
    "    print(\"EPISODE \", episode)\n",
    "\n",
    "    while step < max_steps:\n",
    "        \n",
    "        # increase decay\n",
    "        decay_step +=1\n",
    "        step += 1\n",
    "        \n",
    "        # decide action\n",
    "        random_0_1 = random.uniform(0, 1)\n",
    "        explore_probability = explore_stop + (explore_start - explore_stop) * np.exp(-decay_rate * decay_step)\n",
    "        \n",
    "        if random_0_1 <= explore_probability or (step == 0 and episode == 0): # exploration\n",
    "            action = random.choice(possible_actions) # action sampled from {2,3}\n",
    "            \n",
    "        else: # exploration\n",
    "            best_action_index = get_prediction(state, Q_classifier)['best_action_index'][0]\n",
    "            action = possible_actions[best_action_index]\n",
    "            \n",
    "        # implement best action\n",
    "        next_state, reward, done, info = env.step(action) # reward from {0,1}, done from {True, False}\n",
    "        \n",
    "        # update reward and state\n",
    "        rewards_episode += reward\n",
    "        \n",
    "        if done:\n",
    "            next_state = np.zeros(state.shape)\n",
    "            memory.add((preprocess_state(state), action, reward, preprocess_state(next_state), done))\n",
    "            state = env.reset()\n",
    "            step = max_steps\n",
    "            \n",
    "        else:\n",
    "            next_state = next_state\n",
    "            memory.add((preprocess_state(state), action, reward, preprocess_state(next_state), done))\n",
    "            state = next_state            \n",
    "\n",
    "            \n",
    "        ### train model at every step            \n",
    "\n",
    "        # Obtain random mini-batch from memory\n",
    "\n",
    "        batch = memory.sample(batch_size)\n",
    "        states = np.array([each[0] for each in batch]) # 6400\n",
    "        actions = np.array([each[1] for each in batch])\n",
    "        rewards = np.array([each[2] for each in batch]) \n",
    "        next_states = np.array([each[3] for each in batch])\n",
    "        dones = np.array([each[4] for each in batch])\n",
    "\n",
    "        target_Qs_batch = []\n",
    "\n",
    "        # Get maxQ values for next_state \n",
    "        if episode>=1:\n",
    "            next_state_maxQs = get_prediction(next_states, Q_classifier)['predicted_maxQ']\n",
    "        else:\n",
    "            next_state_maxQs = [0] * batch_size\n",
    "        \n",
    "        # Calculate Target Q values for each state in batch\n",
    "        for i in range(0, len(batch)):\n",
    "            done = dones[i]\n",
    "            if done:\n",
    "                target_Qs_batch.append(rewards[i])\n",
    "            else:\n",
    "                target = rewards[i] + gamma * np.max(next_state_maxQs[i])\n",
    "                target_Qs_batch.append(target)\n",
    "\n",
    "        target_Qs = np.array([each for each in target_Qs_batch])\n",
    "\n",
    "        # define input\n",
    "        train_input_fn = tf.estimator.inputs.numpy_input_fn(\n",
    "            x = {'states': states, \n",
    "                 'actions': np.array([np.array([1.0,0.0], dtype = np.float64) \\\n",
    "                                      if action == 2 else \\\n",
    "                                      np.array([0.0,1.0], dtype = np.float64) for action in actions])},\n",
    "            y = target_Qs, # targets/labels\n",
    "            batch_size = batch_size, \n",
    "            num_epochs = None,\n",
    "            shuffle = True)\n",
    "        \n",
    "        # train model\n",
    "        Q_classifier.train(\n",
    "            input_fn = train_input_fn,\n",
    "            steps = 1)"
   ]
  },
  {
   "cell_type": "code",
   "execution_count": 120,
   "metadata": {},
   "outputs": [
    {
     "name": "stdout",
     "output_type": "stream",
     "text": [
      "INFO:tensorflow:Create CheckpointSaverHook.\n",
      "INFO:tensorflow:Restoring parameters from ./model_files_3/model.ckpt-12\n",
      "INFO:tensorflow:Saving checkpoints for 13 into ./model_files_3/model.ckpt.\n",
      "INFO:tensorflow:loss = 0.00839847946647, step = 13\n",
      "INFO:tensorflow:Loss for final step: 0.00839847946647.\n"
     ]
    },
    {
     "data": {
      "text/plain": [
       "<tensorflow.python.estimator.estimator.Estimator at 0x1c1fb6d518>"
      ]
     },
     "execution_count": 120,
     "metadata": {},
     "output_type": "execute_result"
    }
   ],
   "source": [
    "Q_classifier.train(\n",
    "    input_fn = train_input_fn,\n",
    "    steps = 1)"
   ]
  },
  {
   "cell_type": "code",
   "execution_count": null,
   "metadata": {
    "collapsed": true
   },
   "outputs": [],
   "source": []
  }
 ],
 "metadata": {
  "kernelspec": {
   "display_name": "Python 3",
   "language": "python",
   "name": "python3"
  },
  "language_info": {
   "codemirror_mode": {
    "name": "ipython",
    "version": 3
   },
   "file_extension": ".py",
   "mimetype": "text/x-python",
   "name": "python",
   "nbconvert_exporter": "python",
   "pygments_lexer": "ipython3",
   "version": "3.6.3"
  }
 },
 "nbformat": 4,
 "nbformat_minor": 2
}
